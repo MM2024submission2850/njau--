{
 "cells": [
  {
   "cell_type": "code",
   "execution_count": 21,
   "metadata": {},
   "outputs": [
    {
     "name": "stderr",
     "output_type": "stream",
     "text": [
      "D:\\anaconda\\lib\\site-packages\\ipykernel_launcher.py:2: VisibleDeprecationWarning: Creating an ndarray from ragged nested sequences (which is a list-or-tuple of lists-or-tuples-or ndarrays with different lengths or shapes) is deprecated. If you meant to do this, you must specify 'dtype=object' when creating the ndarray.\n",
      "  \n"
     ]
    },
    {
     "data": {
      "text/plain": [
       "[1, 2, 3, 2, 555]"
      ]
     },
     "execution_count": 21,
     "metadata": {},
     "output_type": "execute_result"
    }
   ],
   "source": [
    "import numpy as np\n",
    "x=np.array([[1,2,3,2,555],[1,1,1,1,1,556]])\n",
    "np.amax(x,axis=0)"
   ]
  },
  {
   "cell_type": "code",
   "execution_count": null,
   "metadata": {},
   "outputs": [],
   "source": []
  },
  {
   "cell_type": "code",
   "execution_count": 71,
   "metadata": {},
   "outputs": [
    {
     "name": "stdout",
     "output_type": "stream",
     "text": [
      "<class 'pandas.core.frame.DataFrame'>\n",
      "RangeIndex: 2216 entries, 0 to 2215\n",
      "Data columns (total 29 columns):\n",
      " #   Column               Non-Null Count  Dtype \n",
      "---  ------               --------------  ----- \n",
      " 0   ID                   2216 non-null   int64 \n",
      " 1   Year_Birth           2216 non-null   int64 \n",
      " 2   Education            2216 non-null   object\n",
      " 3   Marital_Status       2216 non-null   object\n",
      " 4   Income               2216 non-null   int64 \n",
      " 5   Kidhome              2216 non-null   int64 \n",
      " 6   Teenhome             2216 non-null   int64 \n",
      " 7   Dt_Customer          2216 non-null   object\n",
      " 8   Recency              2216 non-null   int64 \n",
      " 9   MntWines             2216 non-null   int64 \n",
      " 10  MntFruits            2216 non-null   int64 \n",
      " 11  MntMeatProducts      2216 non-null   int64 \n",
      " 12  MntFishProducts      2216 non-null   int64 \n",
      " 13  MntSweetProducts     2216 non-null   int64 \n",
      " 14  MntGoldProds         2216 non-null   int64 \n",
      " 15  NumDealsPurchases    2216 non-null   int64 \n",
      " 16  NumWebPurchases      2216 non-null   int64 \n",
      " 17  NumCatalogPurchases  2216 non-null   int64 \n",
      " 18  NumStorePurchases    2216 non-null   int64 \n",
      " 19  NumWebVisitsMonth    2216 non-null   int64 \n",
      " 20  AcceptedCmp3         2216 non-null   int64 \n",
      " 21  AcceptedCmp4         2216 non-null   int64 \n",
      " 22  AcceptedCmp5         2216 non-null   int64 \n",
      " 23  AcceptedCmp1         2216 non-null   int64 \n",
      " 24  AcceptedCmp2         2216 non-null   int64 \n",
      " 25  Complain             2216 non-null   int64 \n",
      " 26  Z_CostContact        2216 non-null   int64 \n",
      " 27  Z_Revenue            2216 non-null   int64 \n",
      " 28  Response             2216 non-null   int64 \n",
      "dtypes: int64(26), object(3)\n",
      "memory usage: 502.2+ KB\n"
     ]
    }
   ],
   "source": [
    "import pandas as pd\n",
    "df=pd.read_csv('data.csv')\n",
    "#df_new=df.dropna(how=all)\n",
    "df.info()\n",
    "\n"
   ]
  },
  {
   "cell_type": "code",
   "execution_count": 70,
   "metadata": {},
   "outputs": [
    {
     "data": {
      "text/plain": [
       "0       58138\n",
       "1       46344\n",
       "2       71613\n",
       "3       26646\n",
       "4       58293\n",
       "        ...  \n",
       "2211    61223\n",
       "2212    64014\n",
       "2213    56981\n",
       "2214    69245\n",
       "2215    52869\n",
       "Name: Income, Length: 2216, dtype: int64"
      ]
     },
     "execution_count": 70,
     "metadata": {},
     "output_type": "execute_result"
    }
   ],
   "source": [
    "df[\"Income\"]\n",
    "\n",
    "df.to_excel(\"新的文件.xlsx\")\n",
    "    "
   ]
  },
  {
   "cell_type": "code",
   "execution_count": 44,
   "metadata": {},
   "outputs": [
    {
     "name": "stdout",
     "output_type": "stream",
     "text": [
      "9.090909090909092\n"
     ]
    },
    {
     "data": {
      "text/plain": [
       "9"
      ]
     },
     "execution_count": 44,
     "metadata": {},
     "output_type": "execute_result"
    }
   ],
   "source": [
    "a=100\n",
    "\n",
    "c=a/11\n",
    "print(c)\n",
    "int(c)\n",
    "\n"
   ]
  },
  {
   "cell_type": "code",
   "execution_count": 52,
   "metadata": {},
   "outputs": [],
   "source": [
    "l=[\"a\",\"b\",\"c\",\"3\"]"
   ]
  },
  {
   "cell_type": "code",
   "execution_count": 54,
   "metadata": {},
   "outputs": [
    {
     "data": {
      "text/plain": [
       "['a', 'b', 'c', '3']"
      ]
     },
     "execution_count": 54,
     "metadata": {},
     "output_type": "execute_result"
    }
   ],
   "source": [
    "l[:]     #------从l[0]  l[2]      "
   ]
  },
  {
   "cell_type": "code",
   "execution_count": 55,
   "metadata": {},
   "outputs": [
    {
     "data": {
      "text/plain": [
       "['a', 'b', 'c', '3']"
      ]
     },
     "execution_count": 55,
     "metadata": {},
     "output_type": "execute_result"
    }
   ],
   "source": [
    "l[0:4]  "
   ]
  },
  {
   "cell_type": "code",
   "execution_count": 64,
   "metadata": {},
   "outputs": [
    {
     "name": "stderr",
     "output_type": "stream",
     "text": [
      "D:\\anaconda\\lib\\site-packages\\ipykernel_launcher.py:2: VisibleDeprecationWarning: Creating an ndarray from ragged nested sequences (which is a list-or-tuple of lists-or-tuples-or ndarrays with different lengths or shapes) is deprecated. If you meant to do this, you must specify 'dtype=object' when creating the ndarray.\n",
      "  \n"
     ]
    },
    {
     "data": {
      "text/plain": [
       "555"
      ]
     },
     "execution_count": 64,
     "metadata": {},
     "output_type": "execute_result"
    }
   ],
   "source": [
    "import numpy as np\n",
    "x=np.array([[1,2,3,2,555],[1,1,1,1,1,556]])\n",
    "np.amax(x[0])"
   ]
  },
  {
   "cell_type": "code",
   "execution_count": null,
   "metadata": {},
   "outputs": [],
   "source": []
  },
  {
   "cell_type": "code",
   "execution_count": null,
   "metadata": {},
   "outputs": [],
   "source": []
  },
  {
   "cell_type": "code",
   "execution_count": null,
   "metadata": {},
   "outputs": [],
   "source": []
  },
  {
   "cell_type": "code",
   "execution_count": null,
   "metadata": {},
   "outputs": [],
   "source": []
  },
  {
   "cell_type": "code",
   "execution_count": null,
   "metadata": {},
   "outputs": [],
   "source": []
  }
 ],
 "metadata": {
  "kernelspec": {
   "display_name": "Python 3",
   "language": "python",
   "name": "python3"
  },
  "language_info": {
   "codemirror_mode": {
    "name": "ipython",
    "version": 3
   },
   "file_extension": ".py",
   "mimetype": "text/x-python",
   "name": "python",
   "nbconvert_exporter": "python",
   "pygments_lexer": "ipython3",
   "version": "3.7.3"
  }
 },
 "nbformat": 4,
 "nbformat_minor": 2
}
