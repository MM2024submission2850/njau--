{
 "cells": [
  {
   "cell_type": "code",
   "execution_count": 5,
   "metadata": {},
   "outputs": [
    {
     "data": {
      "image/png": "[encoded data removed]",
      "text/plain": [
       "<Figure size 432x288 with 1 Axes>"
      ]
     },
     "metadata": {
      "needs_background": "light"
     },
     "output_type": "display_data"
    }
   ],
   "source": [
    "import numpy as np \n",
    "import matplotlib.pyplot as plt \n",
    "import matplotlib.animation as animation \n",
    "import time \n",
    "# Fixing random state for reproducibility \n",
    "np.random.seed(196) \n",
    "path = r\"txt的路径\" \n",
    "file = open(path, 'r') \n",
    "data = []\n",
    "for line in file.readlines(): \n",
    "    lineArr = line.strip().split() \n",
    "    data.append(int(lineArr[0])) \n",
    "xdata = np.arange(0,len(data))\n",
    "#初始数据绘图 \n",
    "dis = np.zeros(40) \n",
    "dis2 = dis \n",
    "fig, ax = plt.subplots() \n",
    "line, = ax.plot(dis) \n",
    "ax.set_ylim(0, 100) \n",
    "plt.grid(True) \n",
    "ax.set_ylabel(\"纵坐标名字\") \n",
    "ax.set_xlabel(\"横坐标名字\") \n",
    " \n",
    "def update(frame): \n",
    "    global dis \n",
    "    global dis2 \n",
    "    global line \n",
    "    #读入模拟 \n",
    "    a = frame \n",
    "    time.sleep(np.random.rand()/10) \n",
    "    #绘图数据生成 \n",
    "    dis[0:-1] = dis2[1:] \n",
    "    dis[-1] = a \n",
    "    dis2 = dis \n",
    "    #绘图\n",
    "    line.set_ydata(dis)  \n",
    "    #颜色设置 \n",
    "    plt.setp(line, 'color', 'b', 'linewidth', 2.0) \n",
    "    return line \n",
    "ani = animation.FuncAnimation(fig, update,frames=data, interval=10) \n",
    "plt.show() "
   ]
  }
 ],
 "metadata": {
  "kernelspec": {
   "display_name": "Python 3",
   "language": "python",
   "name": "python3"
  },
  "language_info": {
   "codemirror_mode": {
    "name": "ipython",
    "version": 3
   },
   "file_extension": ".py",
   "mimetype": "text/x-python",
   "name": "python",
   "nbconvert_exporter": "python",
   "pygments_lexer": "ipython3",
   "version": "3.7.3"
  }
 },
 "nbformat": 4,
 "nbformat_minor": 2
}
