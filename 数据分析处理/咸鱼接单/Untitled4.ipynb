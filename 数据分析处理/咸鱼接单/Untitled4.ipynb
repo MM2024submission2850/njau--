{
 "cells": [
  {
   "cell_type": "code",
   "execution_count": 2,
   "metadata": {},
   "outputs": [],
   "source": [
    "import jieba.posseg as psg\n",
    "from collections import Counter\n",
    "import xlwt\n",
    "\n",
    "# 用分词工具进行分词，带有词性标注，保存到文件中。\n",
    "def cixing(filenamer,filenamerw):\n",
    "    # 文件读取\n",
    "    with open(filenamer,'r',encoding='utf-8',errors='ignore') as fr:\n",
    "        article = fr.read()\n",
    "    # 词性标注\n",
    "    seg_list = psg.cut(article)\n",
    "    # 格式化\n",
    "    result = \" \".join([\"{0}:{1}\\n\".format(w, t) for w, t in seg_list if len(w)!=1])\n",
    "    # 文件写入\n",
    "    with open(filenamerw,'w+') as r:\n",
    "        r.write(result)\n",
    "\n",
    "def cipin(filenamer,filenamerw):\n",
    "    # 文件读取\n",
    "    with open(filenamer, 'r', encoding='utf-8', errors='ignore') as fr:\n",
    "        article = fr.read()\n",
    "\n",
    "    # 词性标注\n",
    "    seg_list = psg.cut(article)\n",
    "\n",
    "    # 数据清洗\n",
    "    seg_list1 = [\"{0}\".format(w) for w, t in seg_list if len(w)!=1]\n",
    "\n",
    "    # 计数\n",
    "    count = Counter(seg_list1)\n",
    "    # 字典排序\n",
    "    dic3 = sorted(count.items(), key=lambda x: x[1], reverse=True)\n",
    "\n",
    "    # print(count)\n",
    "    with open(filenamerw, 'w+') as r:\n",
    "        for x in dic3:\n",
    "            r.write('{0} 出现{1}次\\n'.format(x[0],x[1]))\n",
    "\n",
    "if __name__ == '__main__':\n",
    "    # 用分词工具进行分词，带有词性标注，保存到文件中。\n",
    "    cixing(r'C:\\Users\\13284\\Desktop\\新建文件夹\\半妖司藤.txt',r'C:\\Users\\13284\\Desktop\\词性标注.txt')\n",
    "\n",
    "    # 统计词频，保存到文件中。\n",
    "    cipin(r'C:\\Users\\13284\\Desktop\\新建文件夹\\半妖司藤.txt',r'C:\\Users\\13284\\Desktop\\统计词频.txt')\n"
   ]
  }
 ],
 "metadata": {
  "kernelspec": {
   "display_name": "Python 3",
   "language": "python",
   "name": "python3"
  },
  "language_info": {
   "codemirror_mode": {
    "name": "ipython",
    "version": 3
   },
   "file_extension": ".py",
   "mimetype": "text/x-python",
   "name": "python",
   "nbconvert_exporter": "python",
   "pygments_lexer": "ipython3",
   "version": "3.7.3"
  }
 },
 "nbformat": 4,
 "nbformat_minor": 2
}
