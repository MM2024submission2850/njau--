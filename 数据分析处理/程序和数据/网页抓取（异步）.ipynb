{
 "cells": [
  {
   "cell_type": "markdown",
   "metadata": {},
   "source": [
    "1.F10信息获取"
   ]
  },
  {
   "cell_type": "code",
   "execution_count": 3,
   "metadata": {},
   "outputs": [],
   "source": [
    "import json\n",
    "import requests"
   ]
  },
  {
   "cell_type": "code",
   "execution_count": 4,
   "metadata": {
    "scrolled": true
   },
   "outputs": [
    {
     "name": "stdout",
     "output_type": "stream",
     "text": [
      "{\"path\":\"/companyOverview/getCompanyIntroduction\",\"code\":200,\"data\":{\"total\":1,\"count\":1,\"resultMsg\":\"success\",\"resultCode\":\"200\",\"records\":[{\"basicInformation\":[{\"F032V\":\"房地产业\",\"MARKET\":\"深交所主板\",\"F010D\":\"1984-05-30\",\"F006V\":\"518083\",\"F044V\":\"ESG 300,分析师指数,国证A50,国证Ａ指,国证红利,国证治理,沪深300,巨潮100,巨潮大盘,深成指R,深市精选,深证100,深证100R,深证300,深证成指,深证红利,深证责任,深证治理,央视50,中证100,中证红利\",\"F015V\":\"房地产、贸易及零售等。\",\"F013V\":\"0755-25606666\",\"F007N\":1162538.3375,\"F003V\":\"郁亮\",\"F001V\":\"China Vanke Co., Ltd.\",\"F011V\":\"www.vanke.com\",\"F017V\":\"公司前身系深圳现代企业有限公司，1987年11月始进行股份制改组，于次年12月向社会公开发行股票；1988年12月深万科股票在特区证券挂牌；1991年1月29日，在深交所正式上市；1993年4月向境外投资者发行B股，同年5月28日B股上市。\",\"F005V\":\"广东省深圳市盐田区大梅沙环梅路33号万科中心\",\"F014V\":\"0755-25531696\",\"F004V\":\"广东省深圳市盐田区大梅沙环梅路33号万科中心\",\"F012V\":\"IR@vanke.com\",\"F006D\":\"1991-01-29\",\"F002V\":null,\"ORGNAME\":\"万科企业股份有限公司\",\"F016V\":\"房地产开发；兴办实业（具体项目另行申报）；国内商业、物资供销业（不含专营、专控、专卖商品）；进出口业务（按深经发审证字第113号外贸企业审定证书规定办理）。\",\"F018V\":\"朱旭\",\"F042V\":\"祝九胜\",\"ASECNAME\":\"万  科Ａ\",\"ASECCODE\":\"000002\",\"BSECNAME\":null,\"BSECCODE\":null,\"HSECNAME\":\"万科企业\",\"HSECCODE\":\"02202\",\"F052V\":null,\"F053V\":null}],\"listingInformation\":[{\"SECCODE\":\"000002\",\"F007N\":1.00000000,\"F028N\":2758.0000,\"F008N\":1.000,\"F047V\":\"光大证券有限责任公司,国泰君安证券股份有限公司,深圳经济特区证券公司\"}]}],\"indexRecords\":null},\"params\":{\"stockCodeRequest\":{\"scode\":\"000002\"}}}\n"
     ]
    }
   ],
   "source": [
    "header = {\"user-agent\":\"Mozilla/5.0 (Windows NT 10.0; WOW64) AppleWebKit/537.36 (KHTML, like Gecko) Chrome/94.0.4606.61 Safari/537.36\"}\n",
    "url=\"http://www.cninfo.com.cn/data20/companyOverview/getCompanyIntroduction?scode=000002\"\n",
    "req = requests.get(url,headers=header)\n",
    "print(req.text)\n"
   ]
  },
  {
   "cell_type": "code",
   "execution_count": 5,
   "metadata": {
    "scrolled": false
   },
   "outputs": [
    {
     "name": "stdout",
     "output_type": "stream",
     "text": [
      "/companyOverview/getCompanyIntroduction\n",
      "1\n",
      "[{'F032V': '房地产业', 'MARKET': '深交所主板', 'F010D': '1984-05-30', 'F006V': '518083', 'F044V': 'ESG 300,分析师指数,国证A50,国证Ａ指,国证红利,国证治理,沪深300,巨潮100,巨潮大盘,深成指R,深市精选,深证100,深证100R,深证300,深证成指,深证红利,深证责任,深证治理,央视50,中证100,中证红利', 'F015V': '房地产、贸易及零售等。', 'F013V': '0755-25606666', 'F007N': 1162538.3375, 'F003V': '郁亮', 'F001V': 'China Vanke Co., Ltd.', 'F011V': 'www.vanke.com', 'F017V': '公司前身系深圳现代企业有限公司，1987年11月始进行股份制改组，于次年12月向社会公开发行股票；1988年12月深万科股票在特区证券挂牌；1991年1月29日，在深交所正式上市；1993年4月向境外投资者发行B股，同年5月28日B股上市。', 'F005V': '广东省深圳市盐田区大梅沙环梅路33号万科中心', 'F014V': '0755-25531696', 'F004V': '广东省深圳市盐田区大梅沙环梅路33号万科中心', 'F012V': 'IR@vanke.com', 'F006D': '1991-01-29', 'F002V': None, 'ORGNAME': '万科企业股份有限公司', 'F016V': '房地产开发；兴办实业（具体项目另行申报）；国内商业、物资供销业（不含专营、专控、专卖商品）；进出口业务（按深经发审证字第113号外贸企业审定证书规定办理）。', 'F018V': '朱旭', 'F042V': '祝九胜', 'ASECNAME': '万  科Ａ', 'ASECCODE': '000002', 'BSECNAME': None, 'BSECCODE': None, 'HSECNAME': '万科企业', 'HSECCODE': '02202', 'F052V': None, 'F053V': None}]\n"
     ]
    }
   ],
   "source": [
    "# info='{\"path\":\"/companyOverview/getCompanyIntroduction\",\"code\":200,\"data\":{\"total\":1,\"count\":1,\"resultMsg\":\"success\",\"resultCode\":\"200\",\"records\":[{\"basicInformation\":[{\"F032V\":\"房地产业\",\"MARKET\":\"深交所主板\",\"F010D\":\"1984-05-30\",\"F006V\":\"518083\",\"F044V\":\"ESG 300,分析师指数,国证A50,国证Ａ指,国证红利,国证治理,沪深300,巨潮100,巨潮大盘,深成指R,深市精选,深证100,深证100R,深证300,深证成指,深证红利,深证责任,深证治理,央视50,中证100,中证红利\",\"F015V\":\"房地产、贸易及零售等。\",\"F013V\":\"0755-25606666\",\"F007N\":1162538.3375,\"F003V\":\"郁亮\",\"F001V\":\"China Vanke Co., Ltd.\",\"F011V\":\"www.vanke.com\",\"F017V\":\"公司前身系深圳现代企业有限公司，1987年11月始进行股份制改组，于次年12月向社会公开发行股票；1988年12月深万科股票在特区证券挂牌；1991年1月29日，在深交所正式上市；1993年4月向境外投资者发行B股，同年5月28日B股上市。\",\"F005V\":\"广东省深圳市盐田区大梅沙环梅路33号万科中心\",\"F014V\":\"0755-25531696\",\"F004V\":\"广东省深圳市盐田区大梅沙环梅路33号万科中心\",\"F012V\":\"IR@vanke.com\",\"F006D\":\"1991-01-29\",\"F002V\":null,\"ORGNAME\":\"万科企业股份有限公司\",\"F016V\":\"房地产开发；兴办实业（具体项目另行申报）；国内商业、物资供销业（不含专营、专控、专卖商品）；进出口业务（按深经发审证字第113号外贸企业审定证书规定办理）。\",\"F018V\":\"朱旭\",\"F042V\":\"祝九胜\",\"ASECNAME\":\"万  科Ａ\",\"ASECCODE\":\"000002\",\"BSECNAME\":null,\"BSECCODE\":null,\"HSECNAME\":\"万科企业\",\"HSECCODE\":\"02202\",\"F052V\":null,\"F053V\":null}],\"listingInformation\":[{\"SECCODE\":\"000002\",\"F007N\":1.00000000,\"F028N\":2758.0000,\"F008N\":1.000,\"F047V\":\"光大证券有限责任公司,国泰君安证券股份有限公司,深圳经济特区证券公司\"}]}],\"indexRecords\":null},\"params\":{\"stockCodeRequest\":{\"scode\":\"000002\"}}}'\n",
    "myjson=json.loads(req.text)\n",
    "print(myjson['path'])\n",
    "print(myjson['data']['total'])\n",
    "print(myjson['data']['records'][0]['basicInformation'])"
   ]
  },
  {
   "cell_type": "code",
   "execution_count": 7,
   "metadata": {},
   "outputs": [
    {
     "name": "stdout",
     "output_type": "stream",
     "text": [
      "房地产业\n"
     ]
    }
   ],
   "source": [
    "print(myjson['data']['records'][0]['basicInformation'][0]['F032V'])"
   ]
  },
  {
   "cell_type": "markdown",
   "metadata": {},
   "source": [
    "2.基础信息获取"
   ]
  },
  {
   "cell_type": "code",
   "execution_count": 8,
   "metadata": {},
   "outputs": [
    {
     "name": "stdout",
     "output_type": "stream",
     "text": [
      "jQuery08301178046363551_1631944626610([{\"2378\":\"504703880000.000\",\"2377\":\"35261379000.000\",\"2376\":\"14124.080\",\"35\":\"80400.00\",\"33\":\"93900.00\",\"34\":\"21.33\",\"157\":\"145986.00\",\"1378761\":\"21.468\",\"156\":\"21.35\",\"155\":\"78000.00\",\"154\":\"21.26\",\"152\":\"21.34\",\"153\":\"98800.00\",\"2034120\":\"11.213\",\"150\":\"21.27\",\"151\":\"21300.00\",\"000002\":\"SZ.000002\",\"24\":\"21.30\",\"25\":\"74614.00\",\"26\":\"21.29\",\"27\":\"13200.00\",\"28\":\"21.28\",\"29\":\"58600.00\",\"2918874\":\"23.287\",\"30\":\"21.31\",\"7\":\"21.45\",\"6\":\"21.17\",\"264648\":\"0.140\",\"32\":\"21.32\",\"5\":\"000002\",\"31\":\"117290.00\",\"3541450\":\"247736920000.000\",\"9\":\"21.09\",\"8\":\"21.88\",\"2373\":\"14124.080\",\"199112\":\"0.661\",\"526792\":\"3.732\",\"1247689\":\"3.746\",\"1968584\":\"1.035\",\"19\":\"2159365700.00\",\"55\":\"万  科Ａ\",\"18\":\"93383.00\",\"15\":\"47396843.00\",\"13\":\"100586048.00\",\"14\":\"49346805.00\",\"49\":\"1314500.00\",\"527197\":\"49346805.000\",\"527198\":\"51239243.000\",\"92\":\"\",\"90\":\"\",\"395720\":\"-290662.000\",\"10\":\"21.31\",\"1149395\":\"1.116\",\"461256\":\"-37.165\",\"3475914\":\"207081060000.000\"}])\n"
     ]
    }
   ],
   "source": [
    "url='http://api.cninfo.com.cn/v5/hq/dataItem?jsonpCallback=jQuery08301178046363551_1631944626610&codelist=sz000002&_=1631944626611'\n",
    "req = requests.get(url,headers=header)\n",
    "print(req.text)"
   ]
  },
  {
   "cell_type": "code",
   "execution_count": 11,
   "metadata": {},
   "outputs": [
    {
     "name": "stdout",
     "output_type": "stream",
     "text": [
      "38\n",
      "{\"2378\":\"504703880000.000\",\"2377\":\"35261379000.000\",\"2376\":\"14124.080\",\"35\":\"80400.00\",\"33\":\"93900.00\",\"34\":\"21.33\",\"157\":\"145986.00\",\"1378761\":\"21.468\",\"156\":\"21.35\",\"155\":\"78000.00\",\"154\":\"21.26\",\"152\":\"21.34\",\"153\":\"98800.00\",\"2034120\":\"11.213\",\"150\":\"21.27\",\"151\":\"21300.00\",\"000002\":\"SZ.000002\",\"24\":\"21.30\",\"25\":\"74614.00\",\"26\":\"21.29\",\"27\":\"13200.00\",\"28\":\"21.28\",\"29\":\"58600.00\",\"2918874\":\"23.287\",\"30\":\"21.31\",\"7\":\"21.45\",\"6\":\"21.17\",\"264648\":\"0.140\",\"32\":\"21.32\",\"5\":\"000002\",\"31\":\"117290.00\",\"3541450\":\"247736920000.000\",\"9\":\"21.09\",\"8\":\"21.88\",\"2373\":\"14124.080\",\"199112\":\"0.661\",\"526792\":\"3.732\",\"1247689\":\"3.746\",\"1968584\":\"1.035\",\"19\":\"2159365700.00\",\"55\":\"万  科Ａ\",\"18\":\"93383.00\",\"15\":\"47396843.00\",\"13\":\"100586048.00\",\"14\":\"49346805.00\",\"49\":\"1314500.00\",\"527197\":\"49346805.000\",\"527198\":\"51239243.000\",\"92\":\"\",\"90\":\"\",\"395720\":\"-290662.000\",\"10\":\"21.31\",\"1149395\":\"1.116\",\"461256\":\"-37.165\",\"3475914\":\"207081060000.000\"}\n",
      "成交量：100586048.00\n"
     ]
    }
   ],
   "source": [
    "# stockInfo='jQuery08301178046363551_1631944626610([{\"2378\":\"714327600000.000\",\"2377\":\"50900041000.000\",\"2376\":\"14136.470\",\"35\":\"105600.00\",\"33\":\"63700.00\",\"34\":\"19.10\",\"157\":\"10000.00\",\"1378761\":\"19.107\",\"156\":\"19.12\",\"155\":\"70800.00\",\"154\":\"19.03\",\"152\":\"19.11\",\"153\":\"17000.00\",\"2034120\":\"10.034\",\"150\":\"19.04\",\"151\":\"49700.00\",\"000002\":\"SZ.000002\",\"24\":\"19.07\",\"25\":\"356200.00\",\"26\":\"19.06\",\"27\":\"299400.00\",\"28\":\"19.05\",\"29\":\"126600.00\",\"2918874\":\"20.922\",\"30\":\"19.08\",\"7\":\"19.05\",\"6\":\"19.02\",\"264648\":\"0.050\",\"32\":\"19.09\",\"5\":\"000002\",\"31\":\"46200.00\",\"3541450\":\"221696060000.000\",\"9\":\"18.93\",\"8\":\"19.34\",\"2373\":\"14224.610\",\"199112\":\"0.263\",\"526792\":\"2.156\",\"1247689\":\"2.166\",\"1968584\":\"0.726\",\"19\":\"1347615600.00\",\"55\":\"万  科Ａ\",\"18\":\"64763.00\",\"15\":\"32347306.00\",\"13\":\"70531915.00\",\"14\":\"37145409.00\",\"49\":\"782800.00\",\"527197\":\"37145409.000\",\"527198\":\"33386506.000\",\"92\":\"\",\"90\":\"\",\"395720\":\"660200.000\",\"10\":\"19.07\",\"1149395\":\"0.998\",\"461256\":\"57.649\",\"3475914\":\"185313740000.000\"}])'\n",
    "stockInfo=req.text\n",
    "print(stockInfo.find('['))\n",
    "content=stockInfo[stockInfo.find('[')+1:len(stockInfo)-2]\n",
    "print(content)\n",
    "info=json.loads(content)\n",
    "print(\"成交量：\"+info['13'])\n"
   ]
  },
  {
   "cell_type": "markdown",
   "metadata": {},
   "source": [
    "股东信息"
   ]
  },
  {
   "cell_type": "code",
   "execution_count": 29,
   "metadata": {},
   "outputs": [
    {
     "name": "stdout",
     "output_type": "stream",
     "text": [
      "/companyOverview/getCompanyExecutives\n",
      "{'F002V': '郁亮', 'F010V': '男', 'F012V': '1965', 'F017V': '硕士研究生', 'F009V': '董事会主席', 'F005N': 7306245, 'F012N': 1247.3, 'SEQID': 7830299424, 'F001V': '8801490757'}\n"
     ]
    }
   ],
   "source": [
    "stakeHolder='{\"path\":\"/companyOverview/getCompanyExecutives\",\"code\":200,\"data\":{\"total\":17,\"count\":17,\"resultMsg\":\"success\",\"resultCode\":\"200\",\"records\":[{\"F002V\":\"郁亮\",\"F010V\":\"男\",\"F012V\":\"1965\",\"F017V\":\"硕士研究生\",\"F009V\":\"董事会主席\",\"F005N\":7306245,\"F012N\":1247.3000,\"SEQID\":7830299424,\"F001V\":\"8801490757\"},{\"F002V\":\"祝九胜\",\"F010V\":\"男\",\"F012V\":\"1969\",\"F017V\":\"博士研究生\",\"F009V\":\"董事,首席执行官,总裁\",\"F005N\":null,\"F012N\":1123.1000,\"SEQID\":7830299436,\"F001V\":\"8801370378\"},{\"F002V\":\"王海武\",\"F010V\":\"男\",\"F012V\":\"1978\",\"F017V\":\"硕士研究生\",\"F009V\":\"董事\",\"F005N\":null,\"F012N\":895.8000,\"SEQID\":7830299419,\"F001V\":\"8801627856\"},{\"F002V\":\"黄力平\",\"F010V\":\"男\",\"F012V\":\"1968\",\"F017V\":\"硕士研究生\",\"F009V\":\"董事\",\"F005N\":null,\"F012N\":null,\"SEQID\":7838076768,\"F001V\":\"D210701195\"},{\"F002V\":\"胡国斌\",\"F010V\":\"男\",\"F012V\":\"1965\",\"F017V\":\"博士研究生\",\"F009V\":\"董事\",\"F005N\":null,\"F012N\":null,\"SEQID\":7830299420,\"F001V\":\"8801630484\"},{\"F002V\":\"李强强\",\"F010V\":\"男\",\"F012V\":\"1977\",\"F017V\":\"硕士研究生\",\"F009V\":\"董事\",\"F005N\":null,\"F012N\":null,\"SEQID\":7830299421,\"F001V\":\"8801630485\"},{\"F002V\":\"辛杰\",\"F010V\":\"男\",\"F012V\":\"1966\",\"F017V\":\"硕士研究生\",\"F009V\":\"董事\",\"F005N\":null,\"F012N\":null,\"SEQID\":7830299422,\"F001V\":\"8801334422\"},{\"F002V\":\"刘姝威\",\"F010V\":\"女\",\"F012V\":\"1952\",\"F017V\":\"硕士研究生\",\"F009V\":\"独立董事\",\"F005N\":null,\"F012N\":60.0000,\"SEQID\":7830299426,\"F001V\":\"8801337253\"},{\"F002V\":\"张懿宸\",\"F010V\":\"男\",\"F012V\":\"1963\",\"F017V\":\"本科\",\"F009V\":\"独立董事\",\"F005N\":null,\"F012N\":30.0000,\"SEQID\":7830299428,\"F001V\":\"8801496518\"},{\"F002V\":\"康典\",\"F010V\":\"男\",\"F012V\":\"1948\",\"F017V\":\"硕士研究生\",\"F009V\":\"独立董事\",\"F005N\":null,\"F012N\":60.0000,\"SEQID\":7830299425,\"F001V\":\"8801504467\"},{\"F002V\":\"吴嘉宁\",\"F010V\":\"男\",\"F012V\":\"1961\",\"F017V\":\"硕士研究生\",\"F009V\":\"独立董事\",\"F005N\":null,\"F012N\":60.0000,\"SEQID\":7830299427,\"F001V\":\"8801469088\"},{\"F002V\":\"解冻\",\"F010V\":\"男\",\"F012V\":\"1965\",\"F017V\":\"博士研究生\",\"F009V\":\"监事会主席\",\"F005N\":1490745,\"F012N\":874.6000,\"SEQID\":7830299430,\"F001V\":\"8801504381\"},{\"F002V\":\"栗淼\",\"F010V\":\"男\",\"F012V\":\"1973\",\"F017V\":\"硕士研究生\",\"F009V\":\"监事\",\"F005N\":null,\"F012N\":null,\"SEQID\":7830299429,\"F001V\":\"8801384182\"},{\"F002V\":\"阙东武\",\"F010V\":\"女\",\"F012V\":\"1966\",\"F017V\":\"硕士研究生\",\"F009V\":\"职工监事\",\"F005N\":60700,\"F012N\":523.8000,\"SEQID\":7830299433,\"F001V\":\"8801633317\"},{\"F002V\":\"韩慧华\",\"F010V\":\"女\",\"F012V\":\"1982\",\"F017V\":\"硕士研究生\",\"F009V\":\"执行副总裁,财务负责人\",\"F005N\":null,\"F012N\":578.1000,\"SEQID\":7830299434,\"F001V\":\"8801626916\"},{\"F002V\":\"刘肖\",\"F010V\":\"男\",\"F012V\":\"1979\",\"F017V\":\"硕士研究生\",\"F009V\":\"执行副总裁,首席运营官\",\"F005N\":null,\"F012N\":null,\"SEQID\":7830299435,\"F001V\":\"D210624012\"},{\"F002V\":\"朱旭\",\"F010V\":\"女\",\"F012V\":\"1975\",\"F017V\":\"硕士研究生\",\"F009V\":\"董秘\",\"F005N\":null,\"F012N\":575.9000,\"SEQID\":7830299417,\"F001V\":\"8801362871\"}],\"indexRecords\":null},\"params\":{\"stockCodeRequest\":{\"scode\":\"000002\"}}}'\n",
    "holder=json.loads(stakeHolder)\n",
    "print(holder['path'])\n",
    "print(holder['data']['records'][0])  #取第一股东"
   ]
  },
  {
   "cell_type": "markdown",
   "metadata": {},
   "source": [
    "股东详细信息"
   ]
  },
  {
   "cell_type": "code",
   "execution_count": null,
   "metadata": {},
   "outputs": [],
   "source": [
    "holderDetails='{\"id\":\"8718529787\",\"humanid\":\"8801490757\",\"humanname\":\"郁亮\",\"jobcode\":\"001002\",\"job\":\"董事会主席\",\"status\":true,\"stockcode\":\"000002\",\"stockname\":\"万  科Ａ\",\"birtyday\":\"1965\",\"sex\":\"男\",\"education\":\"硕士研究生\",\"nationality\":null,\"resume\":\"郁亮,男,1965年12月出生,汉族,中国国籍,无境外永久居留权。1988年7月毕业于北京大学,国际经济学学士;1997年7月毕业于北京大学,经济学硕士。1988年8月至1990年7月就职于深圳外贸集团公司;1990年8月加入万科企业股份有限公司,现任万科企业股份有限公司董事兼总裁;2013年1月至今任股份公司董事。\",\"servingdate\":1498780800000,\"departdate\":null,\"jobonduty\":[{\"id\":null,\"humanid\":null,\"humanname\":null,\"jobcode\":null,\"job\":\"董事会主席\",\"status\":true,\"stockcode\":\"000002\",\"stockname\":\"万  科Ａ\",\"birtyday\":null,\"sex\":null,\"education\":null,\"nationality\":null,\"resume\":null,\"servingdate\":1498780800000,\"departdate\":null,\"jobonduty\":null,\"jobexist\":null}],\"jobexist\":null}'\n",
    "#尝试获取股东的简历信息 records\n"
   ]
  },
  {
   "cell_type": "code",
   "execution_count": null,
   "metadata": {},
   "outputs": [],
   "source": [
    "#尝试获取历史分红信息，如何抓取第二页的内容\n",
    "\n",
    "\n",
    "#首先获取第一页对应的链接\n",
    "\n"
   ]
  },
  {
   "cell_type": "markdown",
   "metadata": {},
   "source": [
    "最新公告（PDF文件下载）"
   ]
  },
  {
   "cell_type": "code",
   "execution_count": 31,
   "metadata": {},
   "outputs": [
    {
     "name": "stdout",
     "output_type": "stream",
     "text": [
      "finalpage/2021-09-18/1211094796.PDF\n"
     ]
    }
   ],
   "source": [
    "announcement='{\"classifiedAnnouncements\":null,\"totalSecurities\":0,\"totalAnnouncement\":2139,\"totalRecordNum\":2139,\"announcements\":[{\"id\":null,\"secCode\":\"000002\",\"secName\":\"万科A\",\"orgId\":\"gssz0000002\",\"announcementId\":\"1211094796\",\"announcementTitle\":\"关于招商私募基金变更管理人并完成备案的公告\",\"announcementTime\":1631894400000,\"adjunctUrl\":\"finalpage/2021-09-18/1211094796.PDF\",\"adjunctSize\":150,\"adjunctType\":\"PDF\",\"storageTime\":null,\"columnId\":\"09020202||250101||251302\",\"pageColumn\":\"SZZB\",\"announcementType\":\"01010503||010112||01239999\",\"associateAnnouncement\":null,\"important\":null,\"batchNum\":null,\"announcementContent\":\"\",\"orgName\":null,\"announcementTypeName\":null},{\"id\":null,\"secCode\":\"000002\",\"secName\":\"万科A\",\"orgId\":\"gssz0000002\",\"announcementId\":\"1211093742\",\"announcementTitle\":\"万科企业股份有限公司2019年面向合格投资者公开发行住房租赁专项公司债券（第二期）2021年付息公告\",\"announcementTime\":1631894400000,\"adjunctUrl\":\"finalpage/2021-09-18/1211093742.PDF\",\"adjunctSize\":258,\"adjunctType\":\"PDF\",\"storageTime\":null,\"columnId\":\"09020202||250101||251302\",\"pageColumn\":\"SZZB\",\"announcementType\":\"01010503||010112||013904\",\"associateAnnouncement\":null,\"important\":null,\"batchNum\":null,\"announcementContent\":\"\",\"orgName\":null,\"announcementTypeName\":null},{\"id\":null,\"secCode\":\"000002\",\"secName\":\"万科A\",\"orgId\":\"gssz0000002\",\"announcementId\":\"1211066185\",\"announcementTitle\":\"万科企业股份有限公司关于“18万科02”回售申报情况的公告\",\"announcementTime\":1631721600000,\"adjunctUrl\":\"finalpage/2021-09-16/1211066185.PDF\",\"adjunctSize\":1617,\"adjunctType\":\"PDF\",\"storageTime\":null,\"columnId\":\"09020202||250101||251302\",\"pageColumn\":\"SZZB\",\"announcementType\":\"01010503||010112||013999\",\"associateAnnouncement\":null,\"important\":null,\"batchNum\":null,\"announcementContent\":\"\",\"orgName\":null,\"announcementTypeName\":null},{\"id\":null,\"secCode\":\"000002\",\"secName\":\"万科A\",\"orgId\":\"gssz0000002\",\"announcementId\":\"1211046475\",\"announcementTitle\":\"万科企业股份有限公司关于“18万科02”票面利率调整及回售实施办法的第三次提示性公告\",\"announcementTime\":1631548800000,\"adjunctUrl\":\"finalpage/2021-09-14/1211046475.PDF\",\"adjunctSize\":1700,\"adjunctType\":\"PDF\",\"storageTime\":null,\"columnId\":\"09020202||250101||251302\",\"pageColumn\":\"SZZB\",\"announcementType\":\"01010503||010112||013999\",\"associateAnnouncement\":null,\"important\":null,\"batchNum\":null,\"announcementContent\":\"\",\"orgName\":null,\"announcementTypeName\":null},{\"id\":null,\"secCode\":\"000002\",\"secName\":\"万科A\",\"orgId\":\"gssz0000002\",\"announcementId\":\"1211009759\",\"announcementTitle\":\"关于股东H股股份解除质押的公告\",\"announcementTime\":1631289600000,\"adjunctUrl\":\"finalpage/2021-09-11/1211009759.PDF\",\"adjunctSize\":196,\"adjunctType\":\"PDF\",\"storageTime\":null,\"columnId\":\"09020202||250101||251302\",\"pageColumn\":\"SZZB\",\"announcementType\":\"01010503||010112||01230720\",\"associateAnnouncement\":null,\"important\":null,\"batchNum\":null,\"announcementContent\":\"\",\"orgName\":null,\"announcementTypeName\":null},{\"id\":null,\"secCode\":\"000002\",\"secName\":\"万科A\",\"orgId\":\"gssz0000002\",\"announcementId\":\"1210988170\",\"announcementTitle\":\"万科企业股份有限公司关于“18万科02”票面利率调整及回售实施办法的第二次提示性公告\",\"announcementTime\":1631116800000,\"adjunctUrl\":\"finalpage/2021-09-09/1210988170.PDF\",\"adjunctSize\":1026,\"adjunctType\":\"PDF\",\"storageTime\":null,\"columnId\":\"09020202||250101||251302\",\"pageColumn\":\"SZZB\",\"announcementType\":\"01010503||010112||013999\",\"associateAnnouncement\":null,\"important\":null,\"batchNum\":null,\"announcementContent\":\"\",\"orgName\":null,\"announcementTypeName\":null},{\"id\":null,\"secCode\":\"000002\",\"secName\":\"万科A\",\"orgId\":\"gssz0000002\",\"announcementId\":\"1210982412\",\"announcementTitle\":\"万科企业股份有限公司关于“18万科02”票面利率调整及回售实施办法的第一次提示性公告\",\"announcementTime\":1631030400000,\"adjunctUrl\":\"finalpage/2021-09-08/1210982412.PDF\",\"adjunctSize\":335,\"adjunctType\":\"PDF\",\"storageTime\":null,\"columnId\":\"09020202||250101||251302\",\"pageColumn\":\"SZZB\",\"announcementType\":\"01010503||010112||013999\",\"associateAnnouncement\":null,\"important\":null,\"batchNum\":null,\"announcementContent\":\"\",\"orgName\":null,\"announcementTypeName\":null},{\"id\":null,\"secCode\":\"000002\",\"secName\":\"万科A\",\"orgId\":\"gssz0000002\",\"announcementId\":\"1210977733\",\"announcementTitle\":\"2021年度第三期中期票据发行结果公告\",\"announcementTime\":1630944000000,\"adjunctUrl\":\"finalpage/2021-09-07/1210977733.PDF\",\"adjunctSize\":86,\"adjunctType\":\"PDF\",\"storageTime\":null,\"columnId\":\"09020202||250101||251302\",\"pageColumn\":\"SZZB\",\"announcementType\":\"01010503||010112||011103\",\"associateAnnouncement\":null,\"important\":null,\"batchNum\":null,\"announcementContent\":\"\",\"orgName\":null,\"announcementTypeName\":null},{\"id\":null,\"secCode\":\"000002\",\"secName\":\"万科A\",\"orgId\":\"gssz0000002\",\"announcementId\":\"1210970248\",\"announcementTitle\":\"关于按照《香港上市规则》公布2021年8月证券变动月报表的公告\",\"announcementTime\":1630684800000,\"adjunctUrl\":\"finalpage/2021-09-04/1210970248.PDF\",\"adjunctSize\":163,\"adjunctType\":\"PDF\",\"storageTime\":null,\"columnId\":\"09020202||250101||251302\",\"pageColumn\":\"SZZB\",\"announcementType\":\"01010503||010112||01239999\",\"associateAnnouncement\":null,\"important\":null,\"batchNum\":null,\"announcementContent\":\"\",\"orgName\":null,\"announcementTypeName\":null},{\"id\":null,\"secCode\":\"000002\",\"secName\":\"万科A\",\"orgId\":\"gssz0000002\",\"announcementId\":\"1210970247\",\"announcementTitle\":\"关于股东持股内部调整及A股股份质押的公告\",\"announcementTime\":1630684800000,\"adjunctUrl\":\"finalpage/2021-09-04/1210970247.PDF\",\"adjunctSize\":261,\"adjunctType\":\"PDF\",\"storageTime\":null,\"columnId\":\"09020202||250101||251302\",\"pageColumn\":\"SZZB\",\"announcementType\":\"01010503||010112||01230701\",\"associateAnnouncement\":null,\"important\":null,\"batchNum\":null,\"announcementContent\":\"\",\"orgName\":null,\"announcementTypeName\":null},{\"id\":null,\"secCode\":\"000002\",\"secName\":\"万科A\",\"orgId\":\"gssz0000002\",\"announcementId\":\"1210970245\",\"announcementTitle\":\"2021年8月销售及近期新增项目情况简报\",\"announcementTime\":1630684800000,\"adjunctUrl\":\"finalpage/2021-09-04/1210970245.PDF\",\"adjunctSize\":172,\"adjunctType\":\"PDF\",\"storageTime\":null,\"columnId\":\"09020202||250101||251302\",\"pageColumn\":\"SZZB\",\"announcementType\":\"01010503||010112||01230599\",\"associateAnnouncement\":null,\"important\":null,\"batchNum\":null,\"announcementContent\":\"\",\"orgName\":null,\"announcementTypeName\":null},{\"id\":null,\"secCode\":\"000002\",\"secName\":\"万科A\",\"orgId\":\"gssz0000002\",\"announcementId\":\"1210969976\",\"announcementTitle\":\"万科企业股份有限公司关于拟下调“18万科02”公司债券票面利率的第三次提示性公告\",\"announcementTime\":1630684800000,\"adjunctUrl\":\"finalpage/2021-09-04/1210969976.PDF\",\"adjunctSize\":923,\"adjunctType\":\"PDF\",\"storageTime\":null,\"columnId\":\"09020202||250101||251302\",\"pageColumn\":\"SZZB\",\"announcementType\":\"01010503||010112||013999\",\"associateAnnouncement\":null,\"important\":null,\"batchNum\":null,\"announcementContent\":\"\",\"orgName\":null,\"announcementTypeName\":null},{\"id\":null,\"secCode\":\"000002\",\"secName\":\"万科A\",\"orgId\":\"gssz0000002\",\"announcementId\":\"1210964286\",\"announcementTitle\":\"万科企业股份有限公司关于拟下调“18万科02”公司债券票面利率的第二次提示性公告\",\"announcementTime\":1630598400000,\"adjunctUrl\":\"finalpage/2021-09-03/1210964286.PDF\",\"adjunctSize\":1596,\"adjunctType\":\"PDF\",\"storageTime\":null,\"columnId\":\"09020202||250101||251302\",\"pageColumn\":\"SZZB\",\"announcementType\":\"01010503||010112||013999\",\"associateAnnouncement\":null,\"important\":null,\"batchNum\":null,\"announcementContent\":\"\",\"orgName\":null,\"announcementTypeName\":null},{\"id\":null,\"secCode\":\"000002\",\"secName\":\"万科A\",\"orgId\":\"gssz0000002\",\"announcementId\":\"1210959243\",\"announcementTitle\":\"万科企业股份有限公司关于拟下调“18万科02”公司债券票面利率的第一次提示性公告\",\"announcementTime\":1630512000000,\"adjunctUrl\":\"finalpage/2021-09-02/1210959243.PDF\",\"adjunctSize\":1597,\"adjunctType\":\"PDF\",\"storageTime\":null,\"columnId\":\"09020202||250101||251302\",\"pageColumn\":\"SZZB\",\"announcementType\":\"01010503||010112||013999\",\"associateAnnouncement\":null,\"important\":null,\"batchNum\":null,\"announcementContent\":\"\",\"orgName\":null,\"announcementTypeName\":null},{\"id\":null,\"secCode\":\"000002\",\"secName\":\"万科A\",\"orgId\":\"gssz0000002\",\"announcementId\":\"1210912954\",\"announcementTitle\":\"关于股东H股股份质押变动的公告\",\"announcementTime\":1630252800000,\"adjunctUrl\":\"finalpage/2021-08-30/1210912954.PDF\",\"adjunctSize\":166,\"adjunctType\":\"PDF\",\"storageTime\":null,\"columnId\":\"09020202||250101||251302\",\"pageColumn\":\"SZZB\",\"announcementType\":\"01010503||010112||01230701\",\"associateAnnouncement\":null,\"important\":null,\"batchNum\":null,\"announcementContent\":\"\",\"orgName\":null,\"announcementTypeName\":null},{\"id\":null,\"secCode\":\"000002\",\"secName\":\"万科A\",\"orgId\":\"gssz0000002\",\"announcementId\":\"1210900676\",\"announcementTitle\":\"自2021年1月1日至2021年6月30日止6个月期间财务报表\",\"announcementTime\":1630252800000,\"adjunctUrl\":\"finalpage/2021-08-30/1210900676.PDF\",\"adjunctSize\":3830,\"adjunctType\":\"PDF\",\"storageTime\":null,\"columnId\":\"09020202||250101||251302\",\"pageColumn\":\"SZZB\",\"announcementType\":\"01010501||010112||01239999\",\"associateAnnouncement\":null,\"important\":null,\"batchNum\":null,\"announcementContent\":\"\",\"orgName\":null,\"announcementTypeName\":null},{\"id\":null,\"secCode\":\"000002\",\"secName\":\"万科A\",\"orgId\":\"gssz0000002\",\"announcementId\":\"1210900675\",\"announcementTitle\":\"2021年半年度报告\",\"announcementTime\":1630252800000,\"adjunctUrl\":\"finalpage/2021-08-30/1210900675.PDF\",\"adjunctSize\":4836,\"adjunctType\":\"PDF\",\"storageTime\":null,\"columnId\":\"09020202||250101||250103||251302\",\"pageColumn\":\"SZZB\",\"announcementType\":\"01010503||010112||01030301\",\"associateAnnouncement\":null,\"important\":null,\"batchNum\":null,\"announcementContent\":\"\",\"orgName\":null,\"announcementTypeName\":null},{\"id\":null,\"secCode\":\"000002\",\"secName\":\"万科A\",\"orgId\":\"gssz0000002\",\"announcementId\":\"1210900674\",\"announcementTitle\":\"2021年半年度报告摘要\",\"announcementTime\":1630252800000,\"adjunctUrl\":\"finalpage/2021-08-30/1210900674.PDF\",\"adjunctSize\":552,\"adjunctType\":\"PDF\",\"storageTime\":null,\"columnId\":\"09020202||250101||250103||251302\",\"pageColumn\":\"SZZB\",\"announcementType\":\"01010503||010112||01030310\",\"associateAnnouncement\":null,\"important\":null,\"batchNum\":null,\"announcementContent\":\"\",\"orgName\":null,\"announcementTypeName\":null},{\"id\":null,\"secCode\":\"000002\",\"secName\":\"万科A\",\"orgId\":\"gssz0000002\",\"announcementId\":\"1210900673\",\"announcementTitle\":\"半年报监事会决议公告\",\"announcementTime\":1630252800000,\"adjunctUrl\":\"finalpage/2021-08-30/1210900673.PDF\",\"adjunctSize\":83,\"adjunctType\":\"PDF\",\"storageTime\":null,\"columnId\":\"09020202||250101||251302\",\"pageColumn\":\"SZZB\",\"announcementType\":\"01010505||010112||01239910\",\"associateAnnouncement\":null,\"important\":null,\"batchNum\":null,\"announcementContent\":\"\",\"orgName\":null,\"announcementTypeName\":null},{\"id\":null,\"secCode\":\"000002\",\"secName\":\"万科A\",\"orgId\":\"gssz0000002\",\"announcementId\":\"1210900672\",\"announcementTitle\":\"半年报董事会决议公告\",\"announcementTime\":1630252800000,\"adjunctUrl\":\"finalpage/2021-08-30/1210900672.PDF\",\"adjunctSize\":100,\"adjunctType\":\"PDF\",\"storageTime\":null,\"columnId\":\"09020202||250101||251302\",\"pageColumn\":\"SZZB\",\"announcementType\":\"01010503||010112||01239901\",\"associateAnnouncement\":null,\"important\":null,\"batchNum\":null,\"announcementContent\":\"\",\"orgName\":null,\"announcementTypeName\":null},{\"id\":null,\"secCode\":\"000002\",\"secName\":\"万科A\",\"orgId\":\"gssz0000002\",\"announcementId\":\"1210900671\",\"announcementTitle\":\"公司章程（2021年8月修订）\",\"announcementTime\":1630252800000,\"adjunctUrl\":\"finalpage/2021-08-30/1210900671.PDF\",\"adjunctSize\":590,\"adjunctType\":\"PDF\",\"storageTime\":null,\"columnId\":\"09020202||250101||251302||251304\",\"pageColumn\":\"SZZB\",\"announcementType\":\"01010501||010112||013101\",\"associateAnnouncement\":null,\"important\":null,\"batchNum\":null,\"announcementContent\":\"\",\"orgName\":null,\"announcementTypeName\":null},{\"id\":null,\"secCode\":\"000002\",\"secName\":\"万科A\",\"orgId\":\"gssz0000002\",\"announcementId\":\"1210900670\",\"announcementTitle\":\"独立董事关于控股股东及其他关联方占用公司资金、公司对外担保情况的专项说明和独立意见\",\"announcementTime\":1630252800000,\"adjunctUrl\":\"finalpage/2021-08-30/1210900670.PDF\",\"adjunctSize\":74,\"adjunctType\":\"PDF\",\"storageTime\":null,\"columnId\":\"09020202||250101||251302\",\"pageColumn\":\"SZZB\",\"announcementType\":\"01011107||010112||01310565\",\"associateAnnouncement\":null,\"important\":null,\"batchNum\":null,\"announcementContent\":\"\",\"orgName\":null,\"announcementTypeName\":null},{\"id\":null,\"secCode\":\"000002\",\"secName\":\"万科A\",\"orgId\":\"gssz0000002\",\"announcementId\":\"1210842358\",\"announcementTitle\":\"关于完成H股“以股代息”暨股本结构变化的公告\",\"announcementTime\":1629820800000,\"adjunctUrl\":\"finalpage/2021-08-25/1210842358.PDF\",\"adjunctSize\":140,\"adjunctType\":\"PDF\",\"storageTime\":null,\"columnId\":\"09020202||250101||251302\",\"pageColumn\":\"SZZB\",\"announcementType\":\"01010503||010112||01239999\",\"associateAnnouncement\":null,\"important\":null,\"batchNum\":null,\"announcementContent\":\"\",\"orgName\":null,\"announcementTypeName\":null},{\"id\":null,\"secCode\":\"000002\",\"secName\":\"万科A\",\"orgId\":\"gssz0000002\",\"announcementId\":\"1210842357\",\"announcementTitle\":\"关于子公司为财荣有限公司贷款提供担保的公告\",\"announcementTime\":1629820800000,\"adjunctUrl\":\"finalpage/2021-08-25/1210842357.PDF\",\"adjunctSize\":108,\"adjunctType\":\"PDF\",\"storageTime\":null,\"columnId\":\"09020202||250101||251302\",\"pageColumn\":\"SZZB\",\"announcementType\":\"01010503||010112||011711\",\"associateAnnouncement\":null,\"important\":null,\"batchNum\":null,\"announcementContent\":\"\",\"orgName\":null,\"announcementTypeName\":null},{\"id\":null,\"secCode\":\"000002\",\"secName\":\"万科A\",\"orgId\":\"gssz0000002\",\"announcementId\":\"1210842356\",\"announcementTitle\":\"关于召开2021年中期业绩发布会并征集问题的公告\",\"announcementTime\":1629820800000,\"adjunctUrl\":\"finalpage/2021-08-25/1210842356.PDF\",\"adjunctSize\":176,\"adjunctType\":\"PDF\",\"storageTime\":null,\"columnId\":\"09020202||250101||251302\",\"pageColumn\":\"SZZB\",\"announcementType\":\"01010503||010112||01239999\",\"associateAnnouncement\":null,\"important\":null,\"batchNum\":null,\"announcementContent\":\"\",\"orgName\":null,\"announcementTypeName\":null},{\"id\":null,\"secCode\":\"000002\",\"secName\":\"万科A\",\"orgId\":\"gssz0000002\",\"announcementId\":\"1210768930\",\"announcementTitle\":\"2020年度A股股份分红派息实施公告\",\"announcementTime\":1629216000000,\"adjunctUrl\":\"finalpage/2021-08-18/1210768930.PDF\",\"adjunctSize\":183,\"adjunctType\":\"PDF\",\"storageTime\":null,\"columnId\":\"09020202||250101||251302||2705\",\"pageColumn\":\"SZZB\",\"announcementType\":\"01010503||010112||01130120\",\"associateAnnouncement\":null,\"important\":null,\"batchNum\":null,\"announcementContent\":\"\",\"orgName\":null,\"announcementTypeName\":null},{\"id\":null,\"secCode\":\"000002\",\"secName\":\"万科A\",\"orgId\":\"gssz0000002\",\"announcementId\":\"1210748375\",\"announcementTitle\":\"关于董事会会议召开日期的公告\",\"announcementTime\":1628870400000,\"adjunctUrl\":\"finalpage/2021-08-14/1210748375.PDF\",\"adjunctSize\":126,\"adjunctType\":\"PDF\",\"storageTime\":null,\"columnId\":\"09020202||250101||251302\",\"pageColumn\":\"SZZB\",\"announcementType\":\"01010503||010112||01239901\",\"associateAnnouncement\":null,\"important\":null,\"batchNum\":null,\"announcementContent\":\"\",\"orgName\":null,\"announcementTypeName\":null},{\"id\":null,\"secCode\":\"000002\",\"secName\":\"万科A\",\"orgId\":\"gssz0000002\",\"announcementId\":\"1210665121\",\"announcementTitle\":\"关于按照《香港上市规则》公布2021年7月证券变动月报表的公告\",\"announcementTime\":1628179200000,\"adjunctUrl\":\"finalpage/2021-08-06/1210665121.PDF\",\"adjunctSize\":152,\"adjunctType\":\"PDF\",\"storageTime\":null,\"columnId\":\"09020202||250101||251302\",\"pageColumn\":\"SZZB\",\"announcementType\":\"01010503||010112||01239999\",\"associateAnnouncement\":null,\"important\":null,\"batchNum\":null,\"announcementContent\":\"\",\"orgName\":null,\"announcementTypeName\":null},{\"id\":null,\"secCode\":\"000002\",\"secName\":\"万科A\",\"orgId\":\"gssz0000002\",\"announcementId\":\"1210664428\",\"announcementTitle\":\"万科企业股份有限公司关于“18万科01”回售结果暨摘牌公告\",\"announcementTime\":1628157329000,\"adjunctUrl\":\"finalpage/2021-08-05/1210664428.PDF\",\"adjunctSize\":2077,\"adjunctType\":\"PDF\",\"storageTime\":null,\"columnId\":\"09020202||250101||251302\",\"pageColumn\":\"SZZB\",\"announcementType\":\"01010503||010112||013999\",\"associateAnnouncement\":null,\"important\":null,\"batchNum\":null,\"announcementContent\":\"\",\"orgName\":null,\"announcementTypeName\":null},{\"id\":null,\"secCode\":\"000002\",\"secName\":\"万科A\",\"orgId\":\"gssz0000002\",\"announcementId\":\"1210664427\",\"announcementTitle\":\"万科企业股份有限公司2018年面向合格投资者公开发行住房租赁专项公司债券（第一期）2021年付息公告\",\"announcementTime\":1628157329000,\"adjunctUrl\":\"finalpage/2021-08-05/1210664427.PDF\",\"adjunctSize\":2002,\"adjunctType\":\"PDF\",\"storageTime\":null,\"columnId\":\"09020202||250101||251302\",\"pageColumn\":\"SZZB\",\"announcementType\":\"01010503||010112||013904\",\"associateAnnouncement\":null,\"important\":null,\"batchNum\":null,\"announcementContent\":\"\",\"orgName\":null,\"announcementTypeName\":null}],\"categoryList\":null,\"hasMore\":true,\"totalpages\":71}'\n",
    "announcement=json.loads(announcement)\n",
    "print(announcement['announcements'][0]['adjunctUrl'])  #pdf 文件名\n",
    "\n",
    "# 先通过下载工具查看pdf的下载链接为：\n",
    "# http://www.cninfo.com.cn/new/announcement/download?bulletinId=1211094796&announceTime=2021-09-18\n",
    "# 变化的信息为：1211094796 和  2021-09-18\n",
    "# 从adjunctUrl中提取这两个信息"
   ]
  },
  {
   "cell_type": "code",
   "execution_count": 40,
   "metadata": {},
   "outputs": [
    {
     "name": "stdout",
     "output_type": "stream",
     "text": [
      "['finalpage', '2021-09-18', '1211094796.PDF']\n",
      "2021-09-18\n",
      "1211094796\n",
      "http://www.cninfo.com.cn/new/announcement/download?bulletinId=1211094796&announceTime=2021-09-18\n"
     ]
    }
   ],
   "source": [
    "# 构建下载链接\n",
    "filename=announcement['announcements'][0]['adjunctUrl']\n",
    "names=filename.split(r'/')\n",
    "print(names)\n",
    "date=names[1]  #提取日期\n",
    "name=names[2][:-4]  #提取id\n",
    "print(date)  \n",
    "print(name)\n",
    "url='http://www.cninfo.com.cn/new/announcement/download?bulletinId=%s&announceTime=%s' % (name,date)  #构建下载链接\n",
    "print(url)"
   ]
  },
  {
   "cell_type": "code",
   "execution_count": 42,
   "metadata": {},
   "outputs": [],
   "source": [
    "# 下载PDF文件\n",
    "import requests\n",
    "r = requests.get(url)\n",
    "with open(name+\".pdf\",'wb') as f:\n",
    "    f.write(r.content)"
   ]
  },
  {
   "cell_type": "code",
   "execution_count": 44,
   "metadata": {},
   "outputs": [
    {
     "name": "stdout",
     "output_type": "stream",
     "text": [
      "营业总收入\n",
      "41911167.77\n"
     ]
    }
   ],
   "source": [
    "reportData='{\"path\":\"/financialData/getIncomeStatement\",\"code\":200,\"data\":{\"total\":1,\"count\":1,\"resultMsg\":\"success\",\"resultCode\":\"200\",\"records\":[{\"year\":[{\"2019\":3.678938775E7,\"2018\":2.976793311E7,\"2017\":2.428971103E7,\"2016\":2.404772369E7,\"index\":\"营业总收入\",\"2020\":4.191116777E7},{\"2019\":2.943210766E7,\"2018\":2.370518785E7,\"2017\":1.9832384E7,\"2016\":2.06467294E7,\"index\":\"营业总成本\",\"2020\":3.505133406E7},{\"2019\":7661313.6,\"2018\":6749861.25,\"2017\":5081291.64,\"2016\":3902377.88,\"index\":\"营业利润\",\"2020\":7995864.21},{\"2019\":7653928.95,\"2018\":6746020.14,\"2017\":5114195.27,\"2016\":3925361.17,\"index\":\"利润总额\",\"2020\":7967575.29},{\"2019\":2140767.49,\"2018\":1818790.69,\"2017\":1393356.53,\"2016\":1090335.62,\"index\":\"所得税\",\"2020\":2037763.65},{\"2019\":3887208.69,\"2018\":3377265.17,\"2017\":2805181.49,\"2016\":2102260.63,\"index\":\"归属母公司净利润\",\"2020\":4151554.49}],\"middle\":[{\"2019\":1.393200768E7,\"2018\":1.059745373E7,\"2017\":6981047.76,\"index\":\"营业总收入\",\"2021\":1.671109352E7,\"2020\":1.463495067E7},{\"2019\":1.122584302E7,\"2018\":8713163.18,\"2017\":5766866.67,\"index\":\"营业总成本\",\"2021\":1.478793557E7,\"2020\":1.224085098E7},{\"2019\":2785597.99,\"2018\":1962913.95,\"2017\":1366165.37,\"index\":\"营业利润\",\"2021\":2198757.5,\"2020\":2656398.35},{\"2019\":2772598.41,\"2018\":1966784.49,\"2017\":1382691.14,\"index\":\"利润总额\",\"2021\":2208086.87,\"2020\":2645044.48},{\"2019\":844030.68,\"2018\":614524.43,\"2017\":377392.19,\"index\":\"所得税\",\"2021\":590734.98,\"2020\":782125.04},{\"2019\":1184175.22,\"2018\":912374.32,\"2017\":730272.4,\"index\":\"归属母公司净利润\",\"2021\":1104693.76,\"2020\":1250751.96}],\"one\":[{\"2019\":4837463.08,\"2018\":3082561.53,\"2017\":1858922.88,\"index\":\"营业总收入\",\"2021\":6226409.59,\"2020\":4777434.28},{\"2019\":4225157.68,\"2018\":2750322.79,\"2017\":1728994.38,\"index\":\"营业总成本\",\"2021\":5869613.19,\"2020\":4306438.08},{\"2019\":588552.62,\"2018\":297106.43,\"2017\":155900.82,\"index\":\"营业利润\",\"2021\":404519.68,\"2020\":482323.73},{\"2019\":587169.96,\"2018\":299930.2,\"2017\":157153.12,\"index\":\"利润总额\",\"2021\":410807.13,\"2020\":479567.92},{\"2019\":266576.53,\"2018\":121981.62,\"2017\":46236.03,\"index\":\"所得税\",\"2021\":160102.06,\"2020\":236540.44},{\"2019\":112062.66,\"2018\":89487.8,\"2017\":69541.16,\"index\":\"归属母公司净利润\",\"2021\":129228.63,\"2020\":124935.93}],\"three\":[{\"2019\":2.239147575E7,\"2018\":1.760221392E7,\"2017\":1.171005037E7,\"2016\":1.170548001E7,\"index\":\"营业总收入\",\"2020\":2.414914672E7},{\"2019\":1.816284944E7,\"2018\":1.470829322E7,\"2017\":9979994.63,\"2016\":1.035136712E7,\"index\":\"营业总成本\",\"2020\":2.037533446E7},{\"2019\":4196092.42,\"2018\":3165412.29,\"2017\":2068767.51,\"2016\":1578730.06,\"index\":\"营业利润\",\"2020\":4215389.32},{\"2019\":4182479.32,\"2018\":3166210.67,\"2017\":2090159.22,\"2016\":1596117.18,\"index\":\"利润总额\",\"2020\":4183799.69},{\"2019\":1323437.62,\"2018\":986430.85,\"2017\":608506.5,\"2016\":467091.88,\"index\":\"所得税\",\"2020\":1176645.4},{\"2019\":1824074.51,\"2018\":1398455.98,\"2017\":1109100.09,\"2016\":826238.1,\"index\":\"归属母公司净利润\",\"2020\":1986282.71}]}],\"indexRecords\":null},\"params\":{\"financialDataRequest\":{\"scode\":\"000002\",\"sign\":1,\"rtype\":\"4\"}}}'\n",
    "reportData=json.loads(reportData)\n",
    "print(reportData['data']['records'][0]['year'][0]['index'])\n",
    "print(reportData['data']['records'][0]['year'][0]['2020'])  #获取2020营业收入"
   ]
  },
  {
   "cell_type": "code",
   "execution_count": null,
   "metadata": {},
   "outputs": [],
   "source": []
  }
 ],
 "metadata": {
  "kernelspec": {
   "display_name": "Python 3",
   "language": "python",
   "name": "python3"
  },
  "language_info": {
   "codemirror_mode": {
    "name": "ipython",
    "version": 3
   },
   "file_extension": ".py",
   "mimetype": "text/x-python",
   "name": "python",
   "nbconvert_exporter": "python",
   "pygments_lexer": "ipython3",
   "version": "3.7.3"
  },
  "toc": {
   "base_numbering": 1,
   "nav_menu": {},
   "number_sections": true,
   "sideBar": true,
   "skip_h1_title": false,
   "title_cell": "Table of Contents",
   "title_sidebar": "Contents",
   "toc_cell": false,
   "toc_position": {},
   "toc_section_display": true,
   "toc_window_display": false
  }
 },
 "nbformat": 4,
 "nbformat_minor": 2
}
