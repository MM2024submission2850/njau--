{
 "cells": [
  {
   "cell_type": "code",
   "execution_count": 2,
   "metadata": {},
   "outputs": [],
   "source": [
    "import re"
   ]
  },
  {
   "cell_type": "code",
   "execution_count": 4,
   "metadata": {},
   "outputs": [
    {
     "name": "stdout",
     "output_type": "stream",
     "text": [
      "['产值2373.2万元']\n",
      "2373.2\n"
     ]
    }
   ],
   "source": [
    "mystr='牧原股份公司不断增长，产值2373.2万元，工业总产值'\n",
    "pattern=r'产值.*万元'  \n",
    "results=re.findall(pattern,mystr)\n",
    "print(results)\n",
    "print(results[0][2:-2])"
   ]
  },
  {
   "cell_type": "code",
   "execution_count": 6,
   "metadata": {
    "scrolled": true
   },
   "outputs": [
    {
     "name": "stdout",
     "output_type": "stream",
     "text": [
      "['牧原股份公司产品产量不断增长，产品利润率下降', '汉缆股份公司市场规模不断增长，产品毛利率下降']\n"
     ]
    }
   ],
   "source": [
    "mystr='牧原股份公司产品产量不断增长，产品利润率下降,汉缆股份公司市场规模不断增长，产品毛利率下降'\n",
    "pattern=r'.{1,4}公司.*?增长.*?下降'  # .*?  表示最短匹配\n",
    "results=re.findall(pattern,mystr)\n",
    "print(results)"
   ]
  }
 ],
 "metadata": {
  "kernelspec": {
   "display_name": "Python 3",
   "language": "python",
   "name": "python3"
  },
  "language_info": {
   "codemirror_mode": {
    "name": "ipython",
    "version": 3
   },
   "file_extension": ".py",
   "mimetype": "text/x-python",
   "name": "python",
   "nbconvert_exporter": "python",
   "pygments_lexer": "ipython3",
   "version": "3.7.3"
  },
  "toc": {
   "base_numbering": 1,
   "nav_menu": {},
   "number_sections": true,
   "sideBar": true,
   "skip_h1_title": false,
   "title_cell": "Table of Contents",
   "title_sidebar": "Contents",
   "toc_cell": false,
   "toc_position": {},
   "toc_section_display": true,
   "toc_window_display": false
  }
 },
 "nbformat": 4,
 "nbformat_minor": 2
}
