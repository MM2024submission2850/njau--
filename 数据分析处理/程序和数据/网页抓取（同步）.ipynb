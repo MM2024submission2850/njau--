{
 "cells": [
  {
   "cell_type": "markdown",
   "metadata": {},
   "source": [
    "示例网页"
   ]
  },
  {
   "cell_type": "markdown",
   "metadata": {},
   "source": [
    "<img src=\"./page1.png\", width=820>"
   ]
  },
  {
   "cell_type": "markdown",
   "metadata": {},
   "source": [
    "数据抓取"
   ]
  },
  {
   "cell_type": "code",
   "execution_count": 1,
   "metadata": {},
   "outputs": [
    {
     "name": "stdout",
     "output_type": "stream",
     "text": [
      "5\n",
      "5\n",
      "['parent']\n",
      "['我的博客地址2']\n"
     ]
    }
   ],
   "source": [
    "# 加载用于网页解析的包\n",
    "from lxml import etree\n",
    "\n",
    "html = etree.parse('./index.html',etree.HTMLParser())  #解析网页文件\n",
    "# print(etree.tostring(html).decode('utf-8'))  #展示文件内容\n",
    "\n",
    "all_node = html.xpath('//*')  # 所有节点的获取 //*\n",
    "part_node = html.xpath('//li')  # 部分节点 格式：//节点名\n",
    "print(len(part_node))\n",
    "child_node = html.xpath('//li/a')  # 匹配子节点\n",
    "print(len(child_node))\n",
    "parent_node = html.xpath('//a[@href=\"//mr90.top\"]/../@class')  # 获取父节点属性值的方法 ../@属性名\n",
    "print(parent_node)\n",
    "attrs_node = html.xpath('//a[contains(@class,\"a\")]/text()')   # 获取属性中包含多个值的情况 属性多值匹配 contains()方法\n",
    "print(attrs_node)"
   ]
  },
  {
   "cell_type": "code",
   "execution_count": 18,
   "metadata": {},
   "outputs": [
    {
     "name": "stdout",
     "output_type": "stream",
     "text": [
      "['测试', '我的博客地址1']\n",
      "['我的博客地址5']\n",
      "['测试', '我的博客地址1', '我的博客地址2']\n",
      "['我的博客地址3']\n"
     ]
    }
   ],
   "source": [
    "# 按序获取\n",
    "first_node = html.xpath('//li[1]/a//text()')  # 获取第一个  下标从1开始\n",
    "print(first_node)\n",
    "last_node = html.xpath('//li[last()]//text()')   # 获取最后一个节点\n",
    "print(last_node)\n",
    "front_node = html.xpath('//li[position()<3]//text()')    # 获取前两个节点\n",
    "print(front_node)\n",
    "end_ndoe = html.xpath('//li[last()-2]//text()')   # 获取到数第三个节点\n",
    "print(end_ndoe)"
   ]
  },
  {
   "cell_type": "code",
   "execution_count": 14,
   "metadata": {
    "scrolled": true
   },
   "outputs": [
    {
     "name": "stdout",
     "output_type": "stream",
     "text": [
      "['//mr90.top']\n",
      "['cn']\n",
      "[<Element a at 0x14b359b8488>, <Element span at 0x14b359b84c8>, <Element span at 0x14b359b8508>]\n",
      "['//mr90.top', '1', 'item']\n",
      "['测试', '我的博客地址1']\n",
      "[<Element span at 0x14b3598e408>, '我的博客地址1']\n",
      "[<Element li at 0x14b3598e388>]\n"
     ]
    }
   ],
   "source": [
    "# 轴节点\n",
    "child_node_z = html.xpath('//li[position()<2]/child::a/@href')  # 获取指定节点所有子元素的a节点的href属性值\n",
    "print(child_node_z)\n",
    "attribute_node = html.xpath('//li[2]//attribute::lang')  # 获取指定节点的指定元素的属性值\n",
    "print(attribute_node)\n",
    "all_child_node = html.xpath('//ul/li[last()-1]//child::*')  # 获取指定节点的所有的文本节点\n",
    "print(all_child_node)\n",
    "all_attrs_node = html.xpath('//li[1]/a/attribute::*')  # 获取指定节点的所有属性的属性值\n",
    "print(all_attrs_node)\n",
    "all_child_text_node = html.xpath('//li[1]//child::text()')  # 获取指定节点所有文本子节点\n",
    "print(all_child_text_node)\n",
    "all_child_node_node = html.xpath('//li[1]/a/child::node()')  # 获取指定节点所有子元素\n",
    "print(all_child_node_node)\n",
    "ancestor_self = html.xpath('//a[@title=\"1\"]/../ancestor-or-self::li') # 获取指定元素的所有父辈为li元素的节点（包括当前元素）\n",
    "print(ancestor_self)"
   ]
  },
  {
   "cell_type": "markdown",
   "metadata": {},
   "source": [
    "常用定位语句实例\n",
    "\n",
    "//NODE[not(@class)] 所有节点名为node,且不包含class属性的节点\n",
    "\n",
    "//NODE[@class and @id] 所有节点名为node,且同时包含class属性和id属性的节点\n",
    "\n",
    "//NODE[contains(text(),substring] 所有节点名为node,且其文本中包含substring的节点\n",
    "\n",
    "//A[contains(text(),“下一页”)] 所有包含“下一页”字符串的超链接节点\n",
    "\n",
    "//A[contains(@title,“文章标题”)] 所有其title属性中包含“文章标题”字符串的超链接节点\n",
    "\n",
    "//NODE[@id=“myid”]/text() 节点名为node,且属性id为myid的节点的所有直接text子节点\n",
    "\n",
    "BOOK[author/degree] 所有包含author节点同时该author节点至少含有一个的degree孩子节点的book节点\n",
    "\n",
    "AUTHOR[.=“Matthew Bob”] 所有值为“Matthew Bob”的author节点\n",
    "\n",
    "//*[count(BBB)=2] 所有包含两个BBB孩子节点的节点\n",
    "\n",
    "//[count()=2] 所有包含两个孩子节点的节点\n",
    "\n",
    "//*[name()=‘BBB’] 所有名字为BBB的节点，等同于//BBB\n",
    "\n",
    "//*[starts-with(name(),‘B’)] 所有名字开头为字母B的节点\n",
    "\n",
    "//*[contains(name(),‘C’)] 所有名字中包含字母C的节点\n",
    "\n",
    "//*[string-length(name()) = 3] 名字长度为3个字母的节点\n",
    "\n",
    "//CCC | //BBB 所有CCC节点或BBB节点\n",
    "\n",
    "/child::AAA 等价于/AAA\n",
    "\n",
    "//CCC/descendant:😗 所有以CCC为其祖先的节点\n",
    "\n",
    "//DDD/parent:😗 DDD节点的所有父节点\n",
    "\n",
    "//BBB[position() mod 2 = 0] 偶数位置的BBB节点\n",
    "\n",
    "AUTHOR[not(last-name = “Bob”)] 所有不包含元素last-name的值为Bob的节点\n",
    "\n",
    "P/text()[2] 当前上下文节点中的P节点的第二个文本节点\n",
    "\n",
    "ancestor::BOOK[1] 离当前上下文节点最近的book祖先节点\n",
    "\n",
    "//A[text()=“next”] 锚文本内容等于next的A节点\n",
    "\n",
    "//div[contains(@class,\"card\")]//img/@src\n",
    "\n",
    "//div[contains(@class,\"card\")]//img/@title"
   ]
  },
  {
   "cell_type": "markdown",
   "metadata": {},
   "source": [
    "同花顺数据抓取"
   ]
  },
  {
   "cell_type": "code",
   "execution_count": 19,
   "metadata": {},
   "outputs": [],
   "source": [
    "import requests\n",
    "from lxml import etree\n",
    "import matplotlib.pyplot as plt\n",
    "import pandas as pd\n",
    "%matplotlib inline\n",
    "plt.rcParams['font.sans-serif'] = ['KaiTi'] # 指定默认字体"
   ]
  },
  {
   "cell_type": "code",
   "execution_count": 29,
   "metadata": {},
   "outputs": [
    {
     "name": "stdout",
     "output_type": "stream",
     "text": [
      "<Response [200]>\n",
      "15\n",
      "--1\n",
      "上海市\n",
      "--2\n",
      "PVDF概念，MSCI概念，特斯拉，标普道琼斯A股，融资融券，宁德时代概念，沪股通，新能源汽车，锂电池\n",
      "--3\n",
      "--4\n",
      "　　一般项目：高性能膜材料、锂离子电池、电池材料及专用设备技术领域内的技术开发、技术转让、技术服务、技术咨询，实业投资，投资管理，投资咨询；合成材料销售；货物进出口；技术进出口。（除依法须经批准的项目外，凭营业执照依法自主开展经营活动）\n",
      "--5\n",
      "2017-11-03\n",
      "--6\n",
      "13.68元\n",
      "--7\n",
      "1.12元\n",
      "--8\n",
      "7.75亿元\n",
      "--9\n",
      "293.93%\n",
      "--10\n",
      "39.23亿元\n",
      "--11\n",
      "1.74元\n",
      "--12\n",
      "8.52元\n",
      "--13\n",
      "4.08元\n",
      "--14\n",
      "6.94亿\n",
      "--15\n",
      "6.92亿\n",
      "['7.75亿元']\n",
      "7.75\n"
     ]
    }
   ],
   "source": [
    "# 璞泰来   http://stockpage.10jqka.com.cn/603659/\n",
    "# 抓取公司简介\n",
    "header = {\"user-agent\":\"Mozilla/5.0 (Windows NT 10.0; WOW64) AppleWebKit/537.36 (KHTML, like Gecko) Chrome/94.0.4606.61 Safari/537.36\"}\n",
    "url=\"http://stockpage.10jqka.com.cn/603659/\"\n",
    "req = requests.get(url,headers=header)\n",
    "print(req)\n",
    "\n",
    "html = etree.HTML(req.text)#把爬取下来的html变为lxml类型\n",
    "# print(req.text)\n",
    "\n",
    "arr=html.xpath('//div[@class=\"sub_cont_3\"]/dl[@class=\"company_details\"]/dd')  #定位到公司简介部分\n",
    "print(len(arr))\n",
    "\n",
    "# 简介中包含省略号\n",
    "# for i,item in enumerate(arr):\n",
    "#     mylist=item.xpath('text()')\n",
    "#     if len(mylist)>0:\n",
    "#         print(mylist[0])\n",
    "        \n",
    "#抓取省略信息，被省略的信息在title中\n",
    "for i,item in enumerate(arr):\n",
    "    mylist=item.xpath('text()')       \n",
    "    print('--'+str(i+1))\n",
    "    if len(mylist)>0: \n",
    "        if i==1 or i==3:  #单独处理：设计概念和主营业务\n",
    "            print(item.xpath('@title')[0])\n",
    "        else:\n",
    "            print(mylist[0])    \n",
    "            \n",
    "# 抓取净利润\n",
    "print(arr[7].xpath('text()'))\n",
    "print(arr[7].xpath('text()')[0][:-2])\n",
    "# temp=float(arr[7].xpath('text()')[0][:-2])            "
   ]
  },
  {
   "cell_type": "code",
   "execution_count": 30,
   "metadata": {},
   "outputs": [],
   "source": [
    "header = {\"user-agent\":\"Mozilla/5.0 (Windows NT 10.0; WOW64) AppleWebKit/537.36 (KHTML, like Gecko) Chrome/94.0.4606.61 Safari/537.36\"}\n",
    "\n",
    "def getBasicInof(url):\n",
    "\n",
    "    req = requests.get(url,headers=header)\n",
    "\n",
    "    html = etree.HTML(req.text)#把爬取下来的html变为lxml类型\n",
    "\n",
    "    arr=html.xpath('//div[@class=\"sub_cont_3\"]/dl[@class=\"company_details\"]/dd')  #定位到公司简介部分\n",
    "\n",
    "    # 抓取净利润\n",
    "    temp=float(arr[7].xpath('text()')[0][:-2])\n",
    "    return temp    "
   ]
  },
  {
   "cell_type": "code",
   "execution_count": 31,
   "metadata": {},
   "outputs": [
    {
     "name": "stdout",
     "output_type": "stream",
     "text": [
      "<Response [200]>\n",
      "10\n",
      "['友讯达', '星云股份', '金银河', '天奈科技', '大烨智能', '杭州柯林', '迦南智能', '安科瑞', '宝胜股份', '科林电气']\n",
      "[0.05, 0.61, 0.07, 1.2, 0.18, 0.17, 0.49, 0.93, 1.93, 0.79]\n"
     ]
    }
   ],
   "source": [
    "# 抓取多只股票\n",
    "url='http://stockpage.10jqka.com.cn/spService/1120/Field/fieldBasic'\n",
    "req = requests.get(url,headers=header)\n",
    "print(req)\n",
    "# print(req.text)\n",
    "\n",
    "html = etree.HTML(req.text)\n",
    "arr=html.xpath('//tbody[@id=\"order_199112_desc\"]/tr')\n",
    "print(len(arr))  #总数\n",
    "profit=[]\n",
    "names=[]\n",
    "for i,item in enumerate(arr):\n",
    "#     print(item.xpath('td[1]/a/@href')[0])  #编号从1开始\n",
    "#     print(item.xpath('td[1]/a/text()')[0])\n",
    "    names.append(item.xpath('td[1]/a/text()')[0])\n",
    "    url=item.xpath('td[1]/a/@href')[0]\n",
    "    profit.append(getBasicInof(url))\n",
    "\n",
    "print(names)\n",
    "print(profit)"
   ]
  },
  {
   "cell_type": "code",
   "execution_count": 32,
   "metadata": {},
   "outputs": [
    {
     "data": {
      "image/png": "[encoded data removed]",
      "text/plain": [
       "<Figure size 432x288 with 1 Axes>"
      ]
     },
     "metadata": {
      "needs_background": "light"
     },
     "output_type": "display_data"
    }
   ],
   "source": [
    "# 绘制各公司的利润率\n",
    "plt.bar(names,profit)\n",
    "plt.show()"
   ]
  },
  {
   "cell_type": "code",
   "execution_count": 33,
   "metadata": {},
   "outputs": [],
   "source": [
    "# 保存数据到csv文件\n",
    "df=pd.DataFrame(data=[names,profit])\n",
    "df.to_csv('profit.csv',encoding='GB2312')"
   ]
  },
  {
   "cell_type": "code",
   "execution_count": null,
   "metadata": {},
   "outputs": [],
   "source": []
  },
  {
   "cell_type": "code",
   "execution_count": null,
   "metadata": {},
   "outputs": [],
   "source": []
  },
  {
   "cell_type": "code",
   "execution_count": null,
   "metadata": {},
   "outputs": [],
   "source": []
  }
 ],
 "metadata": {
  "kernelspec": {
   "display_name": "Python 3",
   "language": "python",
   "name": "python3"
  },
  "language_info": {
   "codemirror_mode": {
    "name": "ipython",
    "version": 3
   },
   "file_extension": ".py",
   "mimetype": "text/x-python",
   "name": "python",
   "nbconvert_exporter": "python",
   "pygments_lexer": "ipython3",
   "version": "3.7.3"
  },
  "toc": {
   "base_numbering": 1,
   "nav_menu": {},
   "number_sections": true,
   "sideBar": true,
   "skip_h1_title": false,
   "title_cell": "Table of Contents",
   "title_sidebar": "Contents",
   "toc_cell": false,
   "toc_position": {},
   "toc_section_display": true,
   "toc_window_display": false
  }
 },
 "nbformat": 4,
 "nbformat_minor": 2
}
