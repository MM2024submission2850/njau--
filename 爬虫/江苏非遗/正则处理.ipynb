{
 "cells": [
  {
   "cell_type": "code",
   "execution_count": 8,
   "metadata": {},
   "outputs": [
    {
     "name": "stdout",
     "output_type": "stream",
     "text": [
      "0       <img style=\"width: 600px; height: 403px;\" alt=...\n",
      "1       <img style=\"width: 600px; height: 343px;\" alt=...\n",
      "2       <img style=\"width: 600px; height: 478px;\" alt=...\n",
      "3       <img style=\"width: 600px; height: 400px;\" alt=...\n",
      "4       <img style=\"width: 600px; height: 450px;\" alt=...\n",
      "                              ...                        \n",
      "3005    <div>归仁绿豆饼制作技艺，第三批宿迁市市级非物质文化遗产代表性项目名录传统技艺类项目。<...\n",
      "3006    <div>陆集粉皮制作技艺，第三批宿迁市市级非物质文化遗产代表性项目名录传统技艺类项目。<b...\n",
      "3007    <div>旋木雕，第三批宿迁市市级非物质文化遗产代表性项目名录传统技艺类项目。<br></div>\n",
      "3008    <div>沭阳马氏中药热敷疗法，第三批宿迁市市级非物质文化遗产代表性项目名录传统医药类项目。...\n",
      "3009    <div>三月十五来龙庵庙会，第三批宿迁市市级非物质文化遗产代表性项目名录民俗类项目。<br...\n",
      "Name: 全文, Length: 3010, dtype: object\n",
      "端午节（苏州端午习俗），第一批国家级非物质文化遗产代表性项目名录民俗类项目。2009年打包列入联合国教科文组织人类非物质文化遗产代表作名录端午习俗项目。苏州端午节历史悠久，最早可追溯到春秋时期，后逐渐演化成苏州地方特色的民俗传统，形成了一整套与当地自然气候条件、日常生产生活、经济特征、文化发展相适应的端午民俗活动。苏州端午习俗主要包括四大类。一是在胥门和胥江等纪念意义突出的地区，以龙舟竞渡等活动纪念伍子胥；二是当地为适应自然人文所形成的生活智慧方面的习俗，如采草药、制雄黄酒、做香包、悬艾叶菖蒲、挂钟馗像等；三是有关苏州悠久的丝织文化和特有的服饰文化，如穿五毒衣、穿虎头鞋、穿虎头肚兜、佩百索等；四是与苏州饮食文化传统相关的习俗，如包粽子、吃端午饭等。   苏州端午节，蕴含着古代“天人合一”的思想，凝聚着人与自然和谐相处的生活智慧以及追求祥和、安定、健康生活的文化精神，是以人为本的传统民俗节日。苏州端午文化的地域特色鲜明，对于研究吴地的经济发展、文化特征、地域性格特质及强化文化认同感都有着重要的价值和意义。如今，很多习俗仍在老苏州中延续着，但在年轻人中间已逐渐淡化。近年来，市政府重点恢复了胥江地区的环境风貌，以“修旧如旧”的原则修复了古胥门城墙，在胥江地区建造了以伍子胥石像为标志物的主题文化公园，并恢复了龙舟竞渡等大型市民活动。\n"
     ]
    }
   ],
   "source": [
    "import re\n",
    "import pandas as pd\n",
    "\n",
    "filepath = r'C:\\Users\\13284\\Desktop\\江苏非文化遗产1.xlsx'\n",
    "data = pd.read_excel(filepath)\n",
    "print(data[\"全文\"])\n",
    "\n",
    "#str1='端午节（苏州端午习俗），第一批国家级非物质文化遗产代表性项目名录民俗类项目。2009年打包列入联合国教科文组织人类非物质文化遗产代表作名录端午习俗项目。苏州端午节历史悠久，最早可追溯到春秋时期，后逐渐演化成苏州地方特色的民俗传统，形成了一整套与当地自然气候条件、日常生产生活、经济特征、文化发展相适应的端午民俗活动。<div style=\"text-align: justify; color: rgb(0, 0, 0); text-transform: none; line-height: 250%; text-indent: 2em; letter-spacing: normal; font-size: 18px; font-style: normal; font-variant: normal; font-weight: 400; text-decoration: none; word-spacing: 0px; white-space: pre-line; orphans: 2; -webkit-text-stroke-width: 0px;\"><font face=\"Arial,Helvetica,sans-serif\"><span style=\"line-height: 220%; font-size: 18px;\"><span style=\"line-height: 250%; font-size: 16px;\"><span style=\"line-height: 250%; font-size: 18px;\">苏州端午习俗主要包括四大类。一是在胥门和胥江等纪念意义突出的地区，以龙舟竞渡等活动纪念伍子胥；二是当地为适应自然人文所形成的生活智慧方面的习俗，如采草药、制雄黄酒、做香包、悬艾叶菖蒲、挂钟馗像等；三是有关苏州悠久的丝织文化和特有的服饰文化，如穿五毒衣、穿虎头鞋、穿虎头肚兜、佩百索等；四是与苏州饮食文化传统相关的习俗，如包粽子、吃端午饭等。<br style=\"line-height: 250%; font-size: 18px;\">   苏州端午节，蕴含着古代“天人合一”的思想，凝聚着人与自然和谐相处的生活智慧以及追求祥和、安定、健康生活的文化精神，是以人为本的传统民俗节日。苏州端午文化的地域特色鲜明，对于研究吴地的经济发展、文化特征、地域性格特质及强化文化认同感都有着重要的价值和意义。如今，很多习俗仍在老苏州中延续着，但在年轻人中间已逐渐淡化。近年来，市政府重点恢复了胥江地区的环境风貌，以“修旧如旧”的原则修复了古胥门城墙，在胥江地区建造了以伍子胥石像为标志物的主题文化公园，并恢复了龙舟竞渡等大型市民活动。</font>'\n",
    "a=re.sub(r'<([^<>]*)>',\"\",str1)\n",
    "#a=\"\".join(a)\n",
    "print(a)"
   ]
  },
  {
   "cell_type": "code",
   "execution_count": 9,
   "metadata": {},
   "outputs": [],
   "source": [
    "def remove(str1):\n",
    "    return re.sub(r'<([^<>]*)>',\"\",str1)"
   ]
  },
  {
   "cell_type": "code",
   "execution_count": 12,
   "metadata": {},
   "outputs": [],
   "source": [
    "data[\"全文\"]= data[\"全文\"].apply(remove)"
   ]
  },
  {
   "cell_type": "code",
   "execution_count": 14,
   "metadata": {},
   "outputs": [
    {
     "data": {
      "text/plain": [
       "0       昆曲&nbsp;昆曲，第一批国家级非物质文化遗产代表性项目名录传统戏剧类项目。2001年列入...\n",
       "1       古琴艺术在中国历史发展的长河中，古琴一直占据着一个重要地位，和中国的书画、诗　歌以及文学一起...\n",
       "2       中国剪纸中国剪纸是用剪刀或刻刀在纸上剪刻花纹，用于装点生活或配合其他民俗活动的一种民间艺术。...\n",
       "3       中国雕版印刷技艺雕版印刷技艺是运用刀具在木板上雕刻文字或图案，再用墨、纸、绢等材料刷印、装订...\n",
       "4       中国传统木结构营造技艺（香山帮传统建筑营造技艺）香山帮传统建筑营造技艺，第一批国家级非物质文...\n",
       "                              ...                        \n",
       "3005             归仁绿豆饼制作技艺，第三批宿迁市市级非物质文化遗产代表性项目名录传统技艺类项目。\n",
       "3006              陆集粉皮制作技艺，第三批宿迁市市级非物质文化遗产代表性项目名录传统技艺类项目。\n",
       "3007                   旋木雕，第三批宿迁市市级非物质文化遗产代表性项目名录传统技艺类项目。\n",
       "3008            沭阳马氏中药热敷疗法，第三批宿迁市市级非物质文化遗产代表性项目名录传统医药类项目。\n",
       "3009               三月十五来龙庵庙会，第三批宿迁市市级非物质文化遗产代表性项目名录民俗类项目。\n",
       "Name: 全文, Length: 3010, dtype: object"
      ]
     },
     "execution_count": 14,
     "metadata": {},
     "output_type": "execute_result"
    }
   ],
   "source": [
    "data[\"全文\"]"
   ]
  },
  {
   "cell_type": "code",
   "execution_count": 15,
   "metadata": {},
   "outputs": [],
   "source": [
    "data.to_excel(r'C:\\Users\\13284\\Desktop\\111.xlsx')"
   ]
  }
 ],
 "metadata": {
  "kernelspec": {
   "display_name": "Python 3",
   "language": "python",
   "name": "python3"
  },
  "language_info": {
   "codemirror_mode": {
    "name": "ipython",
    "version": 3
   },
   "file_extension": ".py",
   "mimetype": "text/x-python",
   "name": "python",
   "nbconvert_exporter": "python",
   "pygments_lexer": "ipython3",
   "version": "3.7.3"
  }
 },
 "nbformat": 4,
 "nbformat_minor": 2
}
