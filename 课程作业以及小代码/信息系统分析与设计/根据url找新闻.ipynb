{
 "cells": [
  {
   "cell_type": "code",
   "execution_count": 8,
   "metadata": {},
   "outputs": [
    {
     "name": "stdout",
     "output_type": "stream",
     "text": [
      "['http://mp.weixin.qq.com/s?__biz=MzI5NzQ2MzMzNQ==&mid=2247484882&idx=1&sn=80d5f396de47aa3913ba1c9cc5e7b0f7&chksm=ecb5fe9adbc2778c55090ceb48f313bf8c40aed3b022b6a4d2281389684d5215d97e7c14438d#rd', 'http://mp.weixin.qq.com/s?__biz=MzI5NzQ2MzMzNQ==&mid=2247484882&idx=2&sn=7188160e4ee93f8f3b265fb0a982fe99&chksm=ecb5fe9adbc2778cbba60a8862d9f6ccd3922bafcac06ee910fb493f4bd95cb7efc2b82e8df5#rd', 'http://mp.weixin.qq.com/s?__biz=MzI5NzQ2MzMzNQ==&mid=2247484882&idx=3&sn=18986d824184a0c6976b86b169d648b6&chksm=ecb5fe9adbc2778ce621ebc82657a9a7e0b2cce5ba217ed129602e77015f8055604fd00eee95#rd', 'http://mp.weixin.qq.com/s?__biz=MzI5NzQ2MzMzNQ==&mid=2247484882&idx=4&sn=a68be4615ec3422b84497a6df4cb9622&chksm=ecb5fe9adbc2778c5946937dd6c3fd6d920548565a8fa138fceba61a31e6496d834d830d14d5#rd', 'http://mp.weixin.qq.com/s?__biz=MzI5NzQ2MzMzNQ==&mid=2247484874&idx=1&sn=6e0acfc7a7e730a1abe30cfecf3fe0df&chksm=ecb5fe82dbc27794e2b629039c8ca90467a232af07cc9d935a23f496a8cfee221ecdcedef693#rd']\n",
      "http://mp.weixin.qq.com/s?__biz=MzI5NzQ2MzMzNQ==&mid=2247484882&idx=1&sn=80d5f396de47aa3913ba1c9cc5e7b0f7&chksm=ecb5fe9adbc2778c55090ceb48f313bf8c40aed3b022b6a4d2281389684d5215d97e7c14438d#rd\n"
     ]
    },
    {
     "name": "stderr",
     "output_type": "stream",
     "text": [
      "D:\\anaconda\\lib\\site-packages\\urllib3\\connectionpool.py:847: InsecureRequestWarning: Unverified HTTPS request is being made. Adding certificate verification is strongly advised. See: https://urllib3.readthedocs.io/en/latest/advanced-usage.html#ssl-warnings\n",
      "  InsecureRequestWarning)\n"
     ]
    },
    {
     "name": "stdout",
     "output_type": "stream",
     "text": [
      "\n",
      "http://mp.weixin.qq.com/s?__biz=MzI5NzQ2MzMzNQ==&mid=2247484882&idx=2&sn=7188160e4ee93f8f3b265fb0a982fe99&chksm=ecb5fe9adbc2778cbba60a8862d9f6ccd3922bafcac06ee910fb493f4bd95cb7efc2b82e8df5#rd\n"
     ]
    },
    {
     "name": "stderr",
     "output_type": "stream",
     "text": [
      "D:\\anaconda\\lib\\site-packages\\urllib3\\connectionpool.py:847: InsecureRequestWarning: Unverified HTTPS request is being made. Adding certificate verification is strongly advised. See: https://urllib3.readthedocs.io/en/latest/advanced-usage.html#ssl-warnings\n",
      "  InsecureRequestWarning)\n"
     ]
    },
    {
     "name": "stdout",
     "output_type": "stream",
     "text": [
      "\n",
      "http://mp.weixin.qq.com/s?__biz=MzI5NzQ2MzMzNQ==&mid=2247484882&idx=3&sn=18986d824184a0c6976b86b169d648b6&chksm=ecb5fe9adbc2778ce621ebc82657a9a7e0b2cce5ba217ed129602e77015f8055604fd00eee95#rd\n"
     ]
    },
    {
     "name": "stderr",
     "output_type": "stream",
     "text": [
      "D:\\anaconda\\lib\\site-packages\\urllib3\\connectionpool.py:847: InsecureRequestWarning: Unverified HTTPS request is being made. Adding certificate verification is strongly advised. See: https://urllib3.readthedocs.io/en/latest/advanced-usage.html#ssl-warnings\n",
      "  InsecureRequestWarning)\n"
     ]
    },
    {
     "name": "stdout",
     "output_type": "stream",
     "text": [
      "\n",
      "http://mp.weixin.qq.com/s?__biz=MzI5NzQ2MzMzNQ==&mid=2247484882&idx=4&sn=a68be4615ec3422b84497a6df4cb9622&chksm=ecb5fe9adbc2778c5946937dd6c3fd6d920548565a8fa138fceba61a31e6496d834d830d14d5#rd\n",
      "\n",
      "http://mp.weixin.qq.com/s?__biz=MzI5NzQ2MzMzNQ==&mid=2247484874&idx=1&sn=6e0acfc7a7e730a1abe30cfecf3fe0df&chksm=ecb5fe82dbc27794e2b629039c8ca90467a232af07cc9d935a23f496a8cfee221ecdcedef693#rd\n"
     ]
    },
    {
     "name": "stderr",
     "output_type": "stream",
     "text": [
      "D:\\anaconda\\lib\\site-packages\\urllib3\\connectionpool.py:847: InsecureRequestWarning: Unverified HTTPS request is being made. Adding certificate verification is strongly advised. See: https://urllib3.readthedocs.io/en/latest/advanced-usage.html#ssl-warnings\n",
      "  InsecureRequestWarning)\n",
      "D:\\anaconda\\lib\\site-packages\\urllib3\\connectionpool.py:847: InsecureRequestWarning: Unverified HTTPS request is being made. Adding certificate verification is strongly advised. See: https://urllib3.readthedocs.io/en/latest/advanced-usage.html#ssl-warnings\n",
      "  InsecureRequestWarning)\n"
     ]
    },
    {
     "name": "stdout",
     "output_type": "stream",
     "text": [
      "\n"
     ]
    }
   ],
   "source": [
    "import requests\n",
    "import xlrd\n",
    "import re\n",
    "import time\n",
    "from w3lib import html\n",
    "\n",
    " \n",
    "#from urllib import quote\n",
    "from pyquery import PyQuery as pq\n",
    "from selenium import webdriver\n",
    "\n",
    "import json\n",
    "import os\n",
    "\n",
    "\n",
    "# 打开Excel文件读取数据\n",
    "data = xlrd.open_workbook(r'C:\\Users\\13284\\Desktop\\弄好的str\\1.xlsx')\n",
    "\n",
    "table = data.sheet_by_index(0)  # 通过索引顺序获取\n",
    "\n",
    "# 获取整行和整列的值（返回数组）\n",
    "URLs = table.col_values(0)\n",
    "\n",
    "print(URLs)\n",
    "\n",
    "def get_one_page(url):#请求函数：获取某一网页上的所有内容\n",
    "    headers = {\n",
    "    'User-agent' : 'your User-agent',\n",
    "    'Host' : 'mp.weixin.qq.com',\n",
    "    'Accept' : 'application/json, text/plain, */*',\n",
    "    'Accept-Language' : 'zh-CN,zh;q=0.9',\n",
    "    'Accept-Encoding' : 'gzip, deflate, br',\n",
    "    'Cookie' : 'ALF=1595115608; _T_WM=63421932029; SCF=Ali5pQpakdAmQH9wQdxmFw5hgbS9yDB0oRo7SjIL6p2eqE6pHLtCd2FGWHibfGcK9GoF9m26zpBVr6aEjIy0Iu8.; MLOGIN=1; SUB=_2A25z74wrDeRhGeNN61YS8S_FzjWIHXVRExRjrDV6PUJbkdAKLRHukW1NSfW-b2_mupLWzJ9kaCJFBQkx-InvYh9a; SUHB=0N21siU9F3omJ3; SSOLoginState=1592523899; M_WEIBOCN_PARAMS=oid%3D4517418729340066%26luicode%3D10000011%26lfid%3D2304132803301701_-_WEIBO_SECOND_PROFILE_WEIBO; WEIBOCN_FROM=1110106030',\n",
    "    'DNT' : '1',\n",
    "    'Connection' : 'keep-alive'\n",
    "     }#请求头的书写，包括User-agent,Cookie等\n",
    "    response = requests.get(url,headers = headers,verify=False)#利用requests.get命令获取网页html\n",
    "    if response.status_code == 200:#状态为200即为爬取成功\n",
    "        return response.text#返回值为html文档，传入到解析函数当中\n",
    "    return None\n",
    "def parse_one_page(html):#解析html并存入到文档result.txt中\n",
    "    pattern = re.compile('<p style=\"margin-left: 8px; margin-right: 8px; text-align: justify; visibility: visible;\">.*?</p>', re.S)\n",
    "    items = re.findall(pattern,html)\n",
    "    result = str(items)\n",
    "    with open('题目1.txt','a',encoding='utf-8') as fp:\n",
    "        fp.write(result)\n",
    "for i in URLs:\n",
    "    print(i)\n",
    "    html = get_one_page(i)\n",
    "    #dr = re.compile(r'<[^>]+>',re.S)\n",
    "    #dd = dr.sub('',html)\n",
    "    doc = pq(html)\n",
    "    print(doc('div[class=\"weui_media_box appmsg\"]'))\n",
    "\n"
   ]
  },
  {
   "cell_type": "code",
   "execution_count": 13,
   "metadata": {},
   "outputs": [
    {
     "ename": "UnicodeDecodeError",
     "evalue": "'gbk' codec can't decode byte 0x8b in position 123: illegal multibyte sequence",
     "output_type": "error",
     "traceback": [
      "\u001b[1;31m---------------------------------------------------------------------------\u001b[0m",
      "\u001b[1;31mUnicodeDecodeError\u001b[0m                        Traceback (most recent call last)",
      "\u001b[1;32m<ipython-input-13-e362266597f5>\u001b[0m in \u001b[0;36m<module>\u001b[1;34m\u001b[0m\n\u001b[0;32m     58\u001b[0m \u001b[1;33m\u001b[0m\u001b[0m\n\u001b[0;32m     59\u001b[0m \u001b[1;32mif\u001b[0m \u001b[0m__name__\u001b[0m \u001b[1;33m==\u001b[0m \u001b[1;34m'__main__'\u001b[0m\u001b[1;33m:\u001b[0m\u001b[1;33m\u001b[0m\u001b[1;33m\u001b[0m\u001b[0m\n\u001b[1;32m---> 60\u001b[1;33m     \u001b[0mmain\u001b[0m\u001b[1;33m(\u001b[0m\u001b[1;33m)\u001b[0m\u001b[1;33m\u001b[0m\u001b[1;33m\u001b[0m\u001b[0m\n\u001b[0m",
      "\u001b[1;32m<ipython-input-13-e362266597f5>\u001b[0m in \u001b[0;36mmain\u001b[1;34m()\u001b[0m\n\u001b[0;32m     54\u001b[0m     \u001b[0mfileArray\u001b[0m\u001b[1;33m=\u001b[0m\u001b[0mfun\u001b[0m\u001b[1;33m(\u001b[0m\u001b[0mpath\u001b[0m\u001b[1;33m)\u001b[0m\u001b[1;33m\u001b[0m\u001b[1;33m\u001b[0m\u001b[0m\n\u001b[0;32m     55\u001b[0m     \u001b[1;32mfor\u001b[0m \u001b[0mraw_file_path\u001b[0m \u001b[1;32min\u001b[0m \u001b[0mfileArray\u001b[0m\u001b[1;33m:\u001b[0m\u001b[1;33m\u001b[0m\u001b[1;33m\u001b[0m\u001b[0m\n\u001b[1;32m---> 56\u001b[1;33m         \u001b[0mchuli\u001b[0m\u001b[1;33m(\u001b[0m\u001b[0mraw_file_path\u001b[0m\u001b[1;33m)\u001b[0m\u001b[1;33m\u001b[0m\u001b[1;33m\u001b[0m\u001b[0m\n\u001b[0m\u001b[0;32m     57\u001b[0m         \u001b[0mprint\u001b[0m\u001b[1;33m(\u001b[0m\u001b[0mraw_file_path\u001b[0m\u001b[1;33m+\u001b[0m\u001b[1;34m\"已经完成\"\u001b[0m\u001b[1;33m)\u001b[0m\u001b[1;33m\u001b[0m\u001b[1;33m\u001b[0m\u001b[0m\n\u001b[0;32m     58\u001b[0m \u001b[1;33m\u001b[0m\u001b[0m\n",
      "\u001b[1;32m<ipython-input-13-e362266597f5>\u001b[0m in \u001b[0;36mchuli\u001b[1;34m(path)\u001b[0m\n\u001b[0;32m     18\u001b[0m \u001b[1;32mdef\u001b[0m \u001b[0mchuli\u001b[0m\u001b[1;33m(\u001b[0m\u001b[0mpath\u001b[0m\u001b[1;33m)\u001b[0m\u001b[1;33m:\u001b[0m\u001b[1;33m\u001b[0m\u001b[1;33m\u001b[0m\u001b[0m\n\u001b[0;32m     19\u001b[0m     \u001b[0mfile\u001b[0m \u001b[1;33m=\u001b[0m\u001b[0mopen\u001b[0m\u001b[1;33m(\u001b[0m\u001b[0mpath\u001b[0m\u001b[1;33m,\u001b[0m\u001b[1;34m'r'\u001b[0m\u001b[1;33m,\u001b[0m\u001b[0mencoding\u001b[0m\u001b[1;33m=\u001b[0m\u001b[1;34m'gbk'\u001b[0m\u001b[1;33m)\u001b[0m\u001b[1;33m\u001b[0m\u001b[1;33m\u001b[0m\u001b[0m\n\u001b[1;32m---> 20\u001b[1;33m     \u001b[0mcontent\u001b[0m \u001b[1;33m=\u001b[0m \u001b[0mfile\u001b[0m\u001b[1;33m.\u001b[0m\u001b[0mread\u001b[0m\u001b[1;33m(\u001b[0m\u001b[1;33m)\u001b[0m\u001b[1;33m\u001b[0m\u001b[1;33m\u001b[0m\u001b[0m\n\u001b[0m\u001b[0;32m     21\u001b[0m     \u001b[0mrawResults\u001b[0m \u001b[1;33m=\u001b[0m \u001b[0mre\u001b[0m\u001b[1;33m.\u001b[0m\u001b[0mfindall\u001b[0m\u001b[1;33m(\u001b[0m\u001b[1;34m\">.*?<\"\u001b[0m\u001b[1;33m,\u001b[0m\u001b[0mcontent\u001b[0m\u001b[1;33m,\u001b[0m\u001b[0mre\u001b[0m\u001b[1;33m.\u001b[0m\u001b[0mS\u001b[0m\u001b[1;33m)\u001b[0m\u001b[1;33m\u001b[0m\u001b[1;33m\u001b[0m\u001b[0m\n\u001b[0;32m     22\u001b[0m     \u001b[0mfirstStepResults\u001b[0m  \u001b[1;33m=\u001b[0m \u001b[1;33m[\u001b[0m\u001b[1;33m]\u001b[0m\u001b[1;33m\u001b[0m\u001b[1;33m\u001b[0m\u001b[0m\n",
      "\u001b[1;31mUnicodeDecodeError\u001b[0m: 'gbk' codec can't decode byte 0x8b in position 123: illegal multibyte sequence"
     ]
    }
   ],
   "source": [
    "# -*- coding: utf-8 -*-\n",
    "\"\"\"\n",
    "Created on Tue Aug 11 19:55:52 2020\n",
    "\n",
    "@author: 13284\n",
    "\"\"\"\n",
    "import re\n",
    "\n",
    "import os\n",
    "def fun(path):\n",
    "    fileArray = []    \n",
    "    for root, dirs, files in os.walk(path):\n",
    "        for fn in files:\n",
    "            eachpath = str(root+'/'+fn)\n",
    "            fileArray.append(eachpath)\n",
    "    return fileArray \n",
    "\n",
    "def chuli(path):\n",
    "    file =open(path,'r',encoding='gbk')\n",
    "    content = file.read()\n",
    "    rawResults = re.findall(\">.*?<\",content,re.S)\n",
    "    firstStepResults  = []\n",
    "    for result in rawResults:\n",
    "        #print(result)\n",
    "        if \">\\'][\\'<\"  in result:\n",
    "            continue\n",
    "        if \">:<\"  in result:\n",
    "            continue\n",
    "        if \">回复<\"  in result:\n",
    "            continue\n",
    "        if \"><\"  in result:\n",
    "            continue\n",
    "        if \">\\', \\'<\"  in result:\n",
    "            continue\n",
    "        if \"@\"  in result:\n",
    "            continue\n",
    "        if \"> <\"  in result:\n",
    "            continue\n",
    "        else:\n",
    "            firstStepResults.append(result)\n",
    "    subTextHead = re.compile(\">\")\n",
    "    subTextFoot = re.compile(\"<\")\n",
    "    i = 16\n",
    "    for lastResult in firstStepResults:\n",
    "        resultExcel1 = re.sub(subTextHead, '', lastResult)\n",
    "        resultExcel = re.sub(subTextFoot, '', resultExcel1)\n",
    "        print(i,resultExcel)\n",
    "        i+=1\n",
    "        with open(path,'w',encoding='gbk') as fp:\n",
    "            fp.write('\\n')\n",
    "            fp.write(resultExcel)\n",
    "def main():\n",
    "    path=r\"C:\\Users\\13284\\Desktop\\弄好的str\"\n",
    "    fileArray=fun(path)\n",
    "    for raw_file_path in fileArray:\n",
    "        chuli(raw_file_path)\n",
    "        print(raw_file_path+\"已经完成\")\n",
    "        \n",
    "if __name__ == '__main__':\n",
    "    main()"
   ]
  },
  {
   "cell_type": "code",
   "execution_count": null,
   "metadata": {},
   "outputs": [],
   "source": []
  }
 ],
 "metadata": {
  "kernelspec": {
   "display_name": "Python 3",
   "language": "python",
   "name": "python3"
  },
  "language_info": {
   "codemirror_mode": {
    "name": "ipython",
    "version": 3
   },
   "file_extension": ".py",
   "mimetype": "text/x-python",
   "name": "python",
   "nbconvert_exporter": "python",
   "pygments_lexer": "ipython3",
   "version": "3.7.3"
  }
 },
 "nbformat": 4,
 "nbformat_minor": 2
}
