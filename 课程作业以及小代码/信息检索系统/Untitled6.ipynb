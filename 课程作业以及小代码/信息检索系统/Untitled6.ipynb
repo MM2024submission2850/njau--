{
 "cells": [
  {
   "cell_type": "code",
   "execution_count": 5,
   "metadata": {},
   "outputs": [
    {
     "name": "stdout",
     "output_type": "stream",
     "text": [
      "O:\\8.13桌面\\sbdedx\\241-260\\241-260/Citrobacter_amalonaticus_ASM73105v1.fna\n",
      "O:\\8.13桌面\\sbdedx\\241-260\\241-260/Citrobacter_braakii_ASM106580v1.fna\n",
      "O:\\8.13桌面\\sbdedx\\241-260\\241-260/Citrobacter_freundii_ASM141275v1.fna\n",
      "O:\\8.13桌面\\sbdedx\\241-260\\241-260/Citrobacter_freundii_ASM141285v1.fna\n",
      "O:\\8.13桌面\\sbdedx\\241-260\\241-260/Citrobacter_freundii_ASM141287v1.fna\n",
      "O:\\8.13桌面\\sbdedx\\241-260\\241-260/Citrobacter_freundii_ASM141304v1.fna\n",
      "O:\\8.13桌面\\sbdedx\\241-260\\241-260/Citrobacter_freundii_ASM141327v1.fna\n",
      "O:\\8.13桌面\\sbdedx\\241-260\\241-260/Citrobacter_freundii_ASM1480294v1.fna\n",
      "O:\\8.13桌面\\sbdedx\\241-260\\241-260/Citrobacter_freundii_ASM1480305v1.fna\n",
      "O:\\8.13桌面\\sbdedx\\241-260\\241-260/Citrobacter_freundii_ASM1650132v1.fna\n",
      "O:\\8.13桌面\\sbdedx\\241-260\\241-260/Citrobacter_freundii_ASM1810778v1.fna\n",
      "O:\\8.13桌面\\sbdedx\\241-260\\241-260/Citrobacter_freundii_ASM1844174v1.fna\n",
      "O:\\8.13桌面\\sbdedx\\241-260\\241-260/Citrobacter_freundii_ASM402440v1.fna\n",
      "O:\\8.13桌面\\sbdedx\\241-260\\241-260/Citrobacter_freundii_complex_sp._CFNIH5_ASM291979v1.fna\n",
      "O:\\8.13桌面\\sbdedx\\241-260\\241-260/Citrobacter_portucalensis_ASM1485607v1.fna\n",
      "O:\\8.13桌面\\sbdedx\\241-260\\241-260/Citrobacter_portucalensis_ASM1844699v1.fna\n",
      "O:\\8.13桌面\\sbdedx\\241-260\\241-260/Citrobacter_sp._TSA-1_ASM228938v1.fna\n",
      "O:\\8.13桌面\\sbdedx\\241-260\\241-260/Citrobacter_sp._wls618_ASM528115v1.fna\n",
      "O:\\8.13桌面\\sbdedx\\241-260\\241-260/Citrobacter_werkmanii_ASM414613v1.fna\n",
      "O:\\8.13桌面\\sbdedx\\241-260\\241-260/Citrobacter_youngae_ASM700428v1.fna\n"
     ]
    }
   ],
   "source": [
    "import os\n",
    "import codecs\n",
    "z=0\n",
    "def fun(path):\n",
    "    fileArray = []    \n",
    "    for root, dirs, files in os.walk(path):\n",
    "        for fn in files:\n",
    "            eachpath = str(root+'/'+fn)\n",
    "            fileArray.append(eachpath)\n",
    "    return fileArray\n",
    "path=\"O:\\\\8.13桌面\\\\sbdedx\\\\241-260\\\\241-260\"\n",
    "fileArray=fun(path)\n",
    "for raw_file_path in fileArray:\n",
    "    print(raw_file_path)"
   ]
  },
  {
   "cell_type": "code",
   "execution_count": null,
   "metadata": {},
   "outputs": [],
   "source": []
  }
 ],
 "metadata": {
  "kernelspec": {
   "display_name": "Python 3",
   "language": "python",
   "name": "python3"
  },
  "language_info": {
   "codemirror_mode": {
    "name": "ipython",
    "version": 3
   },
   "file_extension": ".py",
   "mimetype": "text/x-python",
   "name": "python",
   "nbconvert_exporter": "python",
   "pygments_lexer": "ipython3",
   "version": "3.7.3"
  }
 },
 "nbformat": 4,
 "nbformat_minor": 2
}
