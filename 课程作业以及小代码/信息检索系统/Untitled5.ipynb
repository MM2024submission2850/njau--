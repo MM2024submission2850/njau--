{
 "cells": [
  {
   "cell_type": "code",
   "execution_count": 1,
   "metadata": {},
   "outputs": [
    {
     "ename": "SyntaxError",
     "evalue": "Missing parentheses in call to 'print'. Did you mean print(path)? (<ipython-input-1-e5730ab4d53a>, line 19)",
     "output_type": "error",
     "traceback": [
      "\u001b[1;36m  File \u001b[1;32m\"<ipython-input-1-e5730ab4d53a>\"\u001b[1;36m, line \u001b[1;32m19\u001b[0m\n\u001b[1;33m    print path\u001b[0m\n\u001b[1;37m             ^\u001b[0m\n\u001b[1;31mSyntaxError\u001b[0m\u001b[1;31m:\u001b[0m Missing parentheses in call to 'print'. Did you mean print(path)?\n"
     ]
    }
   ],
   "source": [
    "from win32com import client as wc\n",
    "import os\n",
    "import fnmatch\n",
    " \n",
    " \n",
    "all_FileNum = 0\n",
    "debug = 0\n",
    " \n",
    " \n",
    "def Translate(path):\n",
    "    '''\n",
    "    将一个目录下所有doc和docx文件转成txt\n",
    "    该目录下创建一个新目录newdir\n",
    "    新目录下fileNames.txt创建一个文本存入所有的word文件名\n",
    "    本版本具有一定的容错性，即允许对同一文件夹多次操作而不发生冲突\n",
    "    '''\n",
    "    global debug, all_FileNum\n",
    "    if debug:\n",
    "        print path\n",
    "    #该目录下所有文件的名字\n",
    "    files = os.listdir(path) \n",
    "    #该目下创建一个新目录newdir，用来放转化后的txt文本\n",
    "    New_dir = os.path.abspath(os.path.join(path, 'newdir'))\n",
    "    if not os.path.exists(New_dir):\n",
    "        os.mkdir(New_dir)\n",
    "    if debug:\n",
    "        print (New_dir\n",
    "    #创建一个文本存入所有的word文件名\n",
    "    fileNameSet= os.path.abspath(os.path.join(New_dir, 'fileNames.txt'))\n",
    "    o=open(fileNameSet,\"w\") \n",
    "    try:\n",
    "        for filename in files:\n",
    "            if debug:\n",
    "                print filename\n",
    "            #如果不是word文件：继续\n",
    "            if not fnmatch.fnmatch(filename, '*.doc') and not fnmatch.fnmatch(filename, '*.docx'):\n",
    "                continue;\n",
    "            #如果是word临时文件：继续\n",
    "            if fnmatch.fnmatch(filename, '~$*'):\n",
    "                continue;\n",
    "            if debug:\n",
    "                print filename\n",
    "            docpath = os.path.abspath(os.path.join(path,filename))\n",
    "            \n",
    "            #得到一个新的文件名,把原文件名的后缀改成txt\n",
    "            new_txt_name = ''\n",
    "            if fnmatch.fnmatch(filename, '*.doc'):    \n",
    "                new_txt_name = filename[:-4]+'.txt'\n",
    "            else:\n",
    "                new_txt_name = filename[:-5]+'.txt'\n",
    "            if debug:\n",
    "                print new_txt_name\n",
    "            word_to_txt = os.path.join(os.path.join(path, 'newdir'),new_txt_name)\n",
    "            print word_to_txt\n",
    "            wordapp = wc.Dispatch('Word.Application')\n",
    "            doc = wordapp.Documents.Open(docpath)\n",
    "            #为了让python可以在后续操作中r方式读取txt和不产生乱码，参数为4\n",
    "            doc.SaveAs(word_to_txt,4)\n",
    "            doc.Close()\n",
    "            o.write(word_to_txt+'\\n')\n",
    "            all_FileNum += 1\n",
    "    finally:\n",
    "        wordapp.Quit()\n",
    " \n",
    "if __name__ == '__main__':\n",
    "    print '''\n",
    "        将一个目录下所有doc和docx文件转成txt\n",
    "        该目下创建一个新目录newdir\n",
    "        新目录下fileNames.txt创建一个文本存入所有的word文件名\n",
    "        本程序具有一定的容错性\n",
    "    '''\n",
    "    print('Enter your Director\\'s path:')\n",
    "    print(\"路径用\\或\\\\表示均可\")\n",
    "    mypath = raw_input()\n",
    "    print ('生成的文件有:')\n",
    "    Translate(mypath)\n",
    "    print 'The Total Files Numbers = ', all_FileNum\n",
    "    raw_input()\n"
   ]
  },
  {
   "cell_type": "code",
   "execution_count": null,
   "metadata": {},
   "outputs": [],
   "source": []
  }
 ],
 "metadata": {
  "kernelspec": {
   "display_name": "Python 3",
   "language": "python",
   "name": "python3"
  },
  "language_info": {
   "codemirror_mode": {
    "name": "ipython",
    "version": 3
   },
   "file_extension": ".py",
   "mimetype": "text/x-python",
   "name": "python",
   "nbconvert_exporter": "python",
   "pygments_lexer": "ipython3",
   "version": "3.7.3"
  }
 },
 "nbformat": 4,
 "nbformat_minor": 2
}
