{
 "cells": [
  {
   "cell_type": "code",
   "execution_count": 25,
   "metadata": {},
   "outputs": [
    {
     "name": "stdout",
     "output_type": "stream",
     "text": [
      "call svr_submit_RAST_job -user wujunjun1987 -passwd asd123456 -fasta Citrobacter_amalonaticus_CITRO92_PRJEB13533_v1.fna -domain Bacteria -bioname \"Citrobacter amalonaticus_CITRO92_PRJEB13533_v1\" -genetic_code 11 -gene_caller rast\n",
      "call svr_submit_RAST_job -user wujunjun1987 -passwd asd123456 -fasta Citrobacter_amalonaticus_Y19_ASM98180v1.fna -domain Bacteria -bioname \"Citrobacter amalonaticus_Y19_ASM98180v1\" -genetic_code 11 -gene_caller rast\n",
      "call svr_submit_RAST_job -user wujunjun1987 -passwd asd123456 -fasta Citrobacter_freundii_ASM381234v1.fna -domain Bacteria -bioname \"Citrobacter freundii_ASM381234v1\" -genetic_code 11 -gene_caller rast\n",
      "call svr_submit_RAST_job -user wujunjun1987 -passwd asd123456 -fasta Citrobacter_freundii_ATCC_8090_=_MTCC_1658_=_NBRC_12681_ASM1106484v1.fna -domain Bacteria -bioname \"Citrobacter freundii_ATCC_8090_=_MTCC_1658_=_NBRC_12681_ASM1106484v1\" -genetic_code 11 -gene_caller rast\n",
      "call svr_submit_RAST_job -user wujunjun1987 -passwd asd123456 -fasta Citrobacter_koseri_ATCC_BAA-895_ASM1804v1.fna -domain Bacteria -bioname \"Citrobacter koseri_ATCC_BAA-895_ASM1804v1\" -genetic_code 11 -gene_caller rast\n",
      "call svr_submit_RAST_job -user wujunjun1987 -passwd asd123456 -fasta Citrobacter_portucalensis_ASM869360v1.fna -domain Bacteria -bioname \"Citrobacter portucalensis_ASM869360v1\" -genetic_code 11 -gene_caller rast\n",
      "call svr_submit_RAST_job -user wujunjun1987 -passwd asd123456 -fasta Citrobacter_rodentium_ICC168_ASM2708v1.fna -domain Bacteria -bioname \"Citrobacter rodentium_ICC168_ASM2708v1\" -genetic_code 11 -gene_caller rast\n",
      "call svr_submit_RAST_job -user wujunjun1987 -passwd asd123456 -fasta Citrobacter_telavivum_ASM936317v1.fna -domain Bacteria -bioname \"Citrobacter telavivum_ASM936317v1\" -genetic_code 11 -gene_caller rast\n",
      "call svr_submit_RAST_job -user wujunjun1987 -passwd asd123456 -fasta Citrobacter_tructae_ASM468434v1.fna -domain Bacteria -bioname \"Citrobacter tructae_ASM468434v1\" -genetic_code 11 -gene_caller rast\n",
      "call svr_submit_RAST_job -user wujunjun1987 -passwd asd123456 -fasta Citrobacter_youngae_55685_A01.fna -domain Bacteria -bioname \"Citrobacter youngae_55685_A01\" -genetic_code 11 -gene_caller rast\n",
      "call svr_submit_RAST_job -user wujunjun1987 -passwd asd123456 -fasta upload1.fna -domain Bacteria -bioname \"upload1\" -genetic_code 11 -gene_caller rast\n",
      "call svr_submit_RAST_job -user wujunjun1987 -passwd asd123456 -fasta 新建文本文档.fna -domain Bacteria -bioname \"新建文本文档\" -genetic_code 11 -gene_caller rast\n"
     ]
    }
   ],
   "source": [
    "import os\n",
    "import codecs\n",
    "\n",
    "def fun(path):\n",
    "    fileArray = []    \n",
    "    for root, dirs, files in os.walk(path):\n",
    "        for fn in files:\n",
    "            eachpath = str(root+'/'+fn)\n",
    "            fileArray.append(eachpath)\n",
    "    return fileArray \n",
    "\n",
    "def readfile(raw_file_path):\n",
    "    with open(raw_file_path,\"rt\",encoding=\"utf8\",errors=\"ignore\") as f:\n",
    "        raw_file=f.readlines()\n",
    "        return raw_file\n",
    "    \n",
    "path=\"C:\\\\Users\\\\13284\\\\Desktop\\\\1-10\\\\1-10\"\n",
    "fileArray=fun(path)\n",
    "for raw_file_path in fileArray:\n",
    "    file_name = raw_file_path.split('/')[1].split(\".\")[0]\n",
    "    with open(\"test.txt\",\"a\") as f:\n",
    "        f.write(\"call svr_submit_RAST_job -user wujunjun1987 -passwd asd123456 -fasta \"+file_name+\".fna -domain Bacteria -bioname \\\"\"+file_name.replace(\"_\",\" \",1)+\"\\\" -genetic_code 11 -gene_caller rast\"+\"\\n\")\n",
    "    print(\"call svr_submit_RAST_job -user wujunjun1987 -passwd asd123456 -fasta \"+file_name+\".fna -domain Bacteria -bioname \\\"\"+file_name.replace(\"_\",\" \",1)+\"\\\" -genetic_code 11 -gene_caller rast\")"
   ]
  },
  {
   "cell_type": "code",
   "execution_count": null,
   "metadata": {},
   "outputs": [],
   "source": []
  }
 ],
 "metadata": {
  "kernelspec": {
   "display_name": "Python 3",
   "language": "python",
   "name": "python3"
  },
  "language_info": {
   "codemirror_mode": {
    "name": "ipython",
    "version": 3
   },
   "file_extension": ".py",
   "mimetype": "text/x-python",
   "name": "python",
   "nbconvert_exporter": "python",
   "pygments_lexer": "ipython3",
   "version": "3.7.3"
  }
 },
 "nbformat": 4,
 "nbformat_minor": 2
}
