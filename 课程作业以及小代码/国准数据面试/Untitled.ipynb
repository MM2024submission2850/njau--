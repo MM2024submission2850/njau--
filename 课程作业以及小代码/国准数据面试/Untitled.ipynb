{
 "cells": [
  {
   "cell_type": "code",
   "execution_count": 24,
   "metadata": {},
   "outputs": [
    {
     "name": "stdout",
     "output_type": "stream",
     "text": [
      "     country   m100   m200   m400  m800  m1500  m3000  Marathon\n",
      "0  Argentina  11.61  22.94  54.50  2.15   4.43   9.79    178.52\n",
      "1  Australia  11.20  22.35  51.08  1.98   4.13   9.08    152.37\n",
      "2    Austria  11.43  23.09  50.62  1.99   4.22   9.34    159.37\n",
      "3    Belgium  11.41  23.04  52.00  2.00   4.14   8.88    157.85\n",
      "4    Bermuda  11.46  23.05  53.30  2.16   4.58   9.81    169.98\n",
      "[25.38499822 21.66654817 22.66192677 22.44578742 24.17063633 23.99573409\n",
      " 27.16246001 21.2513331  24.36971205 23.95734092 23.52221827 33.16317099\n",
      " 24.42943477 22.58798436 21.57838606 28.99111269 21.93103448 22.0789193\n",
      " 22.42161394 21.12051191 21.28972627 25.90828297 30.58371845 22.23533594\n",
      " 26.73729115 28.62140064 21.24137931 22.81976538 21.58833985 21.40063989\n",
      " 25.74475649 23.41272663 25.47742624 24.83896196 25.90401706 37.13188766\n",
      " 22.54248134 21.68218983 20.68681123 20.68681123 33.13188766 28.49200142\n",
      " 22.86811234 21.50017775 23.52648418 25.98933523 23.12122289 21.96658372\n",
      " 21.81585496 25.29257021 23.95307501 28.59296125 20.29434767 21.50302169\n",
      " 43.51226449]\n"
     ]
    }
   ],
   "source": [
    "\n"
   ]
  },
  {
   "cell_type": "code",
   "execution_count": 30,
   "metadata": {},
   "outputs": [
    {
     "name": "stdout",
     "output_type": "stream",
     "text": [
      "0.9527911107086554\n"
     ]
    }
   ],
   "source": [
    "import pandas as pd\n",
    "import math\n",
    "filepath = r'C:\\Users\\13284\\Desktop\\国准数据面试题\\数据.xlsx'\n",
    "data = pd.read_excel(filepath)\n",
    "\n",
    "m100=data[\"m100\"]\n",
    "m200=data[\"m200\"].values/2\n",
    "m400=data[\"m400\"].values/4\n",
    "m800=data[\"m800\"].values*60/8\n",
    "m1500=data[\"m1500\"].values*60/15\n",
    "m3000=data[\"m3000\"].values*60/30\n",
    "Marathon=data[\"Marathon\"].values*60/421.95\n",
    "\n",
    "def calc_corr(a, b):\n",
    "    a_avg = sum(a)/len(a)\n",
    "    b_avg = sum(b)/len(b)\n",
    "    # 计算分子，协方差————按照协方差公式，本来要除以n的，由于在相关系数中上下同时约去了n，于是可以不除以n\n",
    "    cov_ab = sum([(x - a_avg)*(y - b_avg) for x,y in zip(a, b)])\n",
    "    # 计算分母，方差乘积————方差本来也要除以n，在相关系数中上下同时约去了n，于是可以不除以n\n",
    "    sq = math.sqrt(sum([(x - a_avg)**2 for x in a])*sum([(x - b_avg)**2 for x in b]))\n",
    "    corr_factor = cov_ab/sq\n",
    "    return corr_factor\n",
    "\n",
    "cal_List=[m100,m200,m400,m800,m1500,m3000]\n",
    "column_List=[\"m100\",\"m200\",\"m400\",\"m800\",\"m1500\",\"m3000\"]\n",
    "\n",
    "# 自编函数计算两个列表的相关系数\n",
    "cor2 = calc_corr(m100,m200)\n",
    "\n",
    "print(cor2)"
   ]
  },
  {
   "cell_type": "code",
   "execution_count": null,
   "metadata": {},
   "outputs": [],
   "source": []
  }
 ],
 "metadata": {
  "kernelspec": {
   "display_name": "Python 3",
   "language": "python",
   "name": "python3"
  },
  "language_info": {
   "codemirror_mode": {
    "name": "ipython",
    "version": 3
   },
   "file_extension": ".py",
   "mimetype": "text/x-python",
   "name": "python",
   "nbconvert_exporter": "python",
   "pygments_lexer": "ipython3",
   "version": "3.7.3"
  }
 },
 "nbformat": 4,
 "nbformat_minor": 2
}
