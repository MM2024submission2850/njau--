{
 "cells": [
  {
   "cell_type": "code",
   "execution_count": 6,
   "metadata": {},
   "outputs": [
    {
     "name": "stdout",
     "output_type": "stream",
     "text": [
      "正在生成词云......\n",
      "生成完毕!\n"
     ]
    }
   ],
   "source": [
    "# -*- coding: utf-8 -*-\n",
    "\"\"\"\n",
    "Created on Fri Jun 12 09:14:57 2020\n",
    "\n",
    "@author: 13284\n",
    "\"\"\"\n",
    "\n",
    "# worcloud是生成词云的关键\n",
    "import wordcloud\n",
    "# numpy是一个强大的科学计算库,我们将用它来把PIL库打开的图片保存为数组\n",
    "import numpy as np\n",
    "# PIL是一个图像处理库,用来打开图片\n",
    "from PIL import Image\n",
    "# jieba是中文分词库,可以智能地拆分词语\n",
    "import jieba\n",
    "# matplotlib库是一个绘图库,可以用来显示图片以及绘制多种图形\n",
    "import matplotlib.pyplot as plt\n",
    "\n",
    "# 生成背景图片的两种方法#\n",
    "# 注意背景图片的路径要写对，可以是完整路径，例如C:/image/test.jpg\n",
    "# 若图片与Python代码在同一个文件夹，那可以直接写图片名称+后缀，例如test.jpg\n",
    "# 1.使用 matplotlib库读取图片\n",
    "# background_image_1.jpg是背景图片的文件名，要替换为你自己的图片\n",
    "#bg_1=plt.imread(\"background_image_1.jpg\")\n",
    "\n",
    "# 2.使用numpy库和PIL库，PIL库用于打开图片，numpy库用于将图片转化为数组\n",
    "# 下面这行代码我注释掉了\n",
    "# bg_2=np.array(Image.open('background_image_2.jpg'))\n",
    "\n",
    "# 对于以上的图片选择，要特别注意图片的背景应该为白色\n",
    "#配置词云的背景，图片，字体大小等参数，\n",
    "# 也可以不配置，直接 wc=wordcloud.WordCloud()\n",
    "wc=wordcloud.WordCloud(\n",
    "  # font_path为字体文件的路径，如果没有这个，那么生成的词云图片无法显示中文\n",
    "  font_path=\"C:/Windows/Fonts/simfang.ttf\",\n",
    "\n",
    "  # scale为按比例放大或者缩小生成的图片。例如1.5表示图片放大为原来的1.5倍，可省略\n",
    "  scale=1.5,\n",
    "\n",
    "  # mask表示背景图片，如果不没有背景图片，那这个可以省略\n",
    "  #mask=bg_1,\n",
    "\n",
    "  # background_color为背景颜色，默认为黑色，可以省略\n",
    "  background_color=\"white\",\n",
    "\n",
    "  # width为词云生成的图片宽度，默认为400\n",
    "  width=600,\n",
    "\n",
    "  # height为词云生成的图片高度，默认为200\n",
    "  height=400,\n",
    "\n",
    "  # max_words图片上显示的最大词语的个数\n",
    "  max_words=1000,\n",
    "\n",
    "  # max_font_size为最大字体的大小\n",
    "  max_font_size=220,\n",
    "\n",
    "  # min_font_size为最小字体大小,默认为4\n",
    "  min_font_size=4)\n",
    "\n",
    "# 打开要生成词云的文件,一般是txt格式的纯文本文档\n",
    "# 词云来源.txt 要替换成存有你要转化为词云的信息文件的文件名\n",
    "with open(r'C:\\Users\\13284\\Desktop\\新建文件夹\\1.txt','r',encoding=\"utf-8\") as f:\n",
    "\n",
    "  # text=f.read()是说读取 词云来源.txt 这个文件的所有内容并存储到变量text中\n",
    "  text=f.read()\n",
    "\n",
    "  # 利用jieba库把text拆分并且使用空格分隔拆分后的结果\n",
    "  spilt_text=\" \".join(jieba.lcut(text))\n",
    "\n",
    "print(\"正在生成词云......\")\n",
    "\n",
    "# 调用generate方法，传入要生成词云的文本即可生成词云\n",
    "\n",
    "wc.generate(spilt_text)\n",
    "\n",
    "# 把词云保存成图片\n",
    "wc.to_file(r'C:\\Users\\13284\\Desktop\\新建文件夹\\wordcloud.jpg')\n",
    "\n",
    "print(\"生成完毕!\")"
   ]
  },
  {
   "cell_type": "code",
   "execution_count": null,
   "metadata": {},
   "outputs": [],
   "source": []
  }
 ],
 "metadata": {
  "kernelspec": {
   "display_name": "Python 3",
   "language": "python",
   "name": "python3"
  },
  "language_info": {
   "codemirror_mode": {
    "name": "ipython",
    "version": 3
   },
   "file_extension": ".py",
   "mimetype": "text/x-python",
   "name": "python",
   "nbconvert_exporter": "python",
   "pygments_lexer": "ipython3",
   "version": "3.7.3"
  }
 },
 "nbformat": 4,
 "nbformat_minor": 2
}
