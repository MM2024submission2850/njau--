{
 "cells": [
  {
   "cell_type": "code",
   "execution_count": 1,
   "metadata": {},
   "outputs": [],
   "source": [
    "# 爬取微信公众号"
   ]
  },
  {
   "cell_type": "code",
   "execution_count": 2,
   "metadata": {},
   "outputs": [],
   "source": [
    "from selenium import webdriver\n",
    "from selenium.webdriver.common.by import By\n",
    "from selenium.webdriver.support import expected_conditions as EC\n",
    "from selenium.webdriver.support.wait import WebDriverWait\n",
    "# 导入第2-4行是为了马上会提到的 显式等待\n",
    "import time\n",
    "import datetime\n",
    "\n",
    "driver = webdriver.Chrome()\n",
    "driver.get('https://weixin.sogou.com/')"
   ]
  },
  {
   "cell_type": "code",
   "execution_count": 3,
   "metadata": {},
   "outputs": [],
   "source": [
    "wait = WebDriverWait(driver, 10)\n",
    "input = wait.until(EC.presence_of_element_located((By.NAME, 'query')))\n",
    "input.send_keys('芯片圈')\n",
    "driver.find_element_by_xpath(\"//input[@class='swz']\").click()"
   ]
  },
  {
   "cell_type": "code",
   "execution_count": 4,
   "metadata": {},
   "outputs": [
    {
     "ename": "TypeError",
     "evalue": "'NoneType' object is not subscriptable",
     "output_type": "error",
     "traceback": [
      "\u001b[1;31m---------------------------------------------------------------------------\u001b[0m",
      "\u001b[1;31mTypeError\u001b[0m                                 Traceback (most recent call last)",
      "\u001b[1;32m<ipython-input-4-e5b08e530e52>\u001b[0m in \u001b[0;36m<module>\u001b[1;34m\u001b[0m\n\u001b[0;32m     35\u001b[0m \u001b[1;33m\u001b[0m\u001b[0m\n\u001b[0;32m     36\u001b[0m \u001b[1;32mfor\u001b[0m \u001b[0mi\u001b[0m \u001b[1;32min\u001b[0m \u001b[0mrange\u001b[0m\u001b[1;33m(\u001b[0m\u001b[1;36m10\u001b[0m\u001b[1;33m)\u001b[0m\u001b[1;33m:\u001b[0m\u001b[1;33m\u001b[0m\u001b[1;33m\u001b[0m\u001b[0m\n\u001b[1;32m---> 37\u001b[1;33m     \u001b[0mget_news\u001b[0m\u001b[1;33m(\u001b[0m\u001b[1;33m)\u001b[0m\u001b[1;33m\u001b[0m\u001b[1;33m\u001b[0m\u001b[0m\n\u001b[0m\u001b[0;32m     38\u001b[0m     \u001b[1;32mif\u001b[0m \u001b[0mi\u001b[0m \u001b[1;33m==\u001b[0m \u001b[1;36m9\u001b[0m\u001b[1;33m:\u001b[0m\u001b[1;33m\u001b[0m\u001b[1;33m\u001b[0m\u001b[0m\n\u001b[0;32m     39\u001b[0m         \u001b[1;31m# 如果遍历到第十页则跳出循环不需要点击“下一页”\u001b[0m\u001b[1;33m\u001b[0m\u001b[1;33m\u001b[0m\u001b[1;33m\u001b[0m\u001b[0m\n",
      "\u001b[1;32m<ipython-input-4-e5b08e530e52>\u001b[0m in \u001b[0;36mget_news\u001b[1;34m()\u001b[0m\n\u001b[0;32m      7\u001b[0m     \u001b[1;32mfor\u001b[0m \u001b[0mnews\u001b[0m \u001b[1;32min\u001b[0m \u001b[0mnews_lst\u001b[0m\u001b[1;33m:\u001b[0m\u001b[1;33m\u001b[0m\u001b[1;33m\u001b[0m\u001b[0m\n\u001b[0;32m      8\u001b[0m         \u001b[1;31m# 获取公众号来源\u001b[0m\u001b[1;33m\u001b[0m\u001b[1;33m\u001b[0m\u001b[1;33m\u001b[0m\u001b[0m\n\u001b[1;32m----> 9\u001b[1;33m         \u001b[0msource\u001b[0m \u001b[1;33m=\u001b[0m \u001b[0mnews\u001b[0m\u001b[1;33m.\u001b[0m\u001b[0mfind_elements_by_xpath\u001b[0m\u001b[1;33m(\u001b[0m\u001b[1;34m'div[2]/div/a'\u001b[0m\u001b[1;33m)\u001b[0m\u001b[1;33m[\u001b[0m\u001b[1;36m0\u001b[0m\u001b[1;33m]\u001b[0m\u001b[1;33m.\u001b[0m\u001b[0mtext\u001b[0m\u001b[1;33m\u001b[0m\u001b[1;33m\u001b[0m\u001b[0m\n\u001b[0m\u001b[0;32m     10\u001b[0m         \u001b[1;32mif\u001b[0m \u001b[1;34m'早起'\u001b[0m \u001b[1;32mnot\u001b[0m \u001b[1;32min\u001b[0m \u001b[0msource\u001b[0m\u001b[1;33m:\u001b[0m\u001b[1;33m\u001b[0m\u001b[1;33m\u001b[0m\u001b[0m\n\u001b[0;32m     11\u001b[0m             \u001b[1;32mcontinue\u001b[0m\u001b[1;33m\u001b[0m\u001b[1;33m\u001b[0m\u001b[0m\n",
      "\u001b[1;31mTypeError\u001b[0m: 'NoneType' object is not subscriptable"
     ]
    }
   ],
   "source": [
    "num = 0\n",
    "\n",
    "def get_news():\n",
    "    global num # 放全局变量是为了给符合条件的文章记序\n",
    "    time.sleep(1)\n",
    "    news_lst = driver.find_elements_by_xpath(\"//li[contains(@id,'sogou_vr_11002601_box')]\")\n",
    "    for news in news_lst:\n",
    "        # 获取公众号来源\n",
    "        source = news.find_elements_by_xpath('div[2]/div/a')[0].text\n",
    "        if '早起' not in source:\n",
    "            continue\n",
    "        num += 1\n",
    "        # 获取文章标题\n",
    "        title = news.find_elements_by_xpath('div[2]/h3/a')[0].text\n",
    "        # 获取文章发表日期\n",
    "        date = news.find_elements_by_xpath('div[2]/div/span')[0].text\n",
    "        # 文章发表的日期如果较近可能会显示“1天前” “12小时前” “30分钟前”\n",
    "        # 这里可以用`datetime`模块根据时间差求出具体时间\n",
    "        # 然后解析为`YYYY-MM-DD`格式\n",
    "        if '前' in date:\n",
    "            today = datetime.datetime.today()\n",
    "            if '天' in date:\n",
    "                delta = datetime.timedelta(days=int(date[0]))\n",
    "            elif '小时' in date:\n",
    "                delta = datetime.timedelta(hours=int(date.replace('小时前', ' ')))\n",
    "            else:\n",
    "                delta = datetime.timedelta(minutes=int(date.replace('分钟前', ' ')))\n",
    "            date = str((today - delta).strftime('%Y-%m-%d'))\n",
    "        date = datetime.datetime.strptime(date, '%Y-%m-%d').strftime('%Y-%m-%d')\n",
    "        # 获取url\n",
    "        url = news.find_elements_by_xpath('div[2]/h3/a')[0].get_attribute('href')\n",
    "        print(num, title, date)\n",
    "        print(url)\n",
    "        print('-' * 10)\n",
    "\n",
    "for i in range(10):\n",
    "    get_news()\n",
    "    if i == 9:\n",
    "        # 如果遍历到第十页则跳出循环不需要点击“下一页”\n",
    "        break\n",
    "    driver.find_element_by_id(\"sogou_next\").click()"
   ]
  },
  {
   "cell_type": "code",
   "execution_count": null,
   "metadata": {},
   "outputs": [],
   "source": [
    "driver.find_element_by_name('top_login').click()\n",
    "while True:\n",
    "    try:\n",
    "        next_page = driver.find_element_by_id(\"sogou_next\")\n",
    "        break\n",
    "    except:\n",
    "        time.sleep(3)\n",
    "next_page.click()"
   ]
  },
  {
   "cell_type": "code",
   "execution_count": null,
   "metadata": {},
   "outputs": [],
   "source": [
    "while True:\n",
    "    get_news()\n",
    "    print(get_news())\n",
    "    try:\n",
    "        driver.find_element_by_id(\"sogou_next\").click()\n",
    "        print(get_news())\n",
    "    except:\n",
    "        break\n",
    "\n",
    "# 最后退出浏览器即可\n",
    "driver.quit()"
   ]
  },
  {
   "cell_type": "code",
   "execution_count": null,
   "metadata": {},
   "outputs": [],
   "source": []
  }
 ],
 "metadata": {
  "kernelspec": {
   "display_name": "Python 3",
   "language": "python",
   "name": "python3"
  },
  "language_info": {
   "codemirror_mode": {
    "name": "ipython",
    "version": 3
   },
   "file_extension": ".py",
   "mimetype": "text/x-python",
   "name": "python",
   "nbconvert_exporter": "python",
   "pygments_lexer": "ipython3",
   "version": "3.7.3"
  }
 },
 "nbformat": 4,
 "nbformat_minor": 2
}
